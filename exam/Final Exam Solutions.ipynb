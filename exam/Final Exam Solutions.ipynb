{
 "cells": [
  {
   "cell_type": "markdown",
   "metadata": {
    "jp-MarkdownHeadingCollapsed": true,
    "tags": []
   },
   "source": [
    "# Final Exam Solution\n",
    "\n",
    "## FINM 37400 - 2024\n",
    "\n",
    "### UChicago Financial Mathematics\n",
    "\n",
    "* Mark Hendricks\n",
    "* hendricks@uchicago.edu"
   ]
  },
  {
   "cell_type": "markdown",
   "metadata": {},
   "source": [
    "***"
   ]
  },
  {
   "cell_type": "markdown",
   "metadata": {},
   "source": [
    "# Instructions"
   ]
  },
  {
   "cell_type": "markdown",
   "metadata": {},
   "source": [
    "## Please note the following:\n",
    "\n",
    "Time\n",
    "* You have 180 minutes to complete the exam.\n",
    "* For every minute late you submit the exam, you will lose one point.\n",
    "\n",
    "Submission\n",
    "* You will upload your solution to the Final Exam assignment on Canvas.\n",
    "* Your submission should be readable, (the graders can understand your answers,) and it should include all code used in your analysis in a file format that the code can be executed. (ie. .ipynb preferred, .pdf is unacceptable.)\n",
    "\n",
    "Rules\n",
    "* The exam is open-material, closed-communication.\n",
    "* You do not need to cite material from the course github repo--you are welcome to use the code posted there without citation, (only for this exam.)\n",
    "\n",
    "Advice\n",
    "* If you find any question to be unclear, state your interpretation and proceed. We will only answer questions of interpretation if there is a typo, error, etc.\n",
    "* The exam will be graded for partial credit."
   ]
  },
  {
   "cell_type": "markdown",
   "metadata": {},
   "source": [
    "## Data\n",
    "\n",
    "**All data files are found in the class github repo, in the `data` folder.**\n",
    "\n",
    "This exam makes use of the following data files:\n",
    "\n",
    "#### Section 2\n",
    "* New file: `select_maturities_2017-02-07.xlsx`\n",
    "\n",
    "#### Section 3\n",
    "* Familiar file: `famabliss_strips_2023-12-29.xlsx`"
   ]
  },
  {
   "cell_type": "markdown",
   "metadata": {},
   "source": [
    "## Scoring\n",
    "\n",
    "| Problem | Points |\n",
    "|---------|--------|\n",
    "| 1       | 25     |\n",
    "| 2       | 45     |\n",
    "| 3       | 60     |\n",
    "| 4       | 35     |\n",
    "| **Total**   | **165**|"
   ]
  },
  {
   "cell_type": "markdown",
   "metadata": {},
   "source": [
    "***"
   ]
  },
  {
   "cell_type": "markdown",
   "metadata": {},
   "source": [
    "# 1. Long-Short Trades"
   ]
  },
  {
   "cell_type": "markdown",
   "metadata": {},
   "source": [
    "Consider the following market data as of `Dec 29, 2023`.\n",
    "\n",
    "The table below shows two Treasury securities, a T-note and a T-bond. They mature on the same date."
   ]
  },
  {
   "cell_type": "code",
   "execution_count": 39,
   "metadata": {},
   "outputs": [
    {
     "data": {
      "text/html": [
       "<div>\n",
       "<style scoped>\n",
       "    .dataframe tbody tr th:only-of-type {\n",
       "        vertical-align: middle;\n",
       "    }\n",
       "\n",
       "    .dataframe tbody tr th {\n",
       "        vertical-align: top;\n",
       "    }\n",
       "\n",
       "    .dataframe thead th {\n",
       "        text-align: right;\n",
       "    }\n",
       "</style>\n",
       "<table border=\"1\" class=\"dataframe\">\n",
       "  <thead>\n",
       "    <tr style=\"text-align: right;\">\n",
       "      <th></th>\n",
       "      <th>207391</th>\n",
       "      <th>204095</th>\n",
       "    </tr>\n",
       "  </thead>\n",
       "  <tbody>\n",
       "    <tr>\n",
       "      <th>issue date</th>\n",
       "      <td>2019-08-15</td>\n",
       "      <td>1999-08-15</td>\n",
       "    </tr>\n",
       "    <tr>\n",
       "      <th>maturity date</th>\n",
       "      <td>2029-08-15</td>\n",
       "      <td>2029-08-15</td>\n",
       "    </tr>\n",
       "    <tr>\n",
       "      <th>coupon rate</th>\n",
       "      <td>0.01625</td>\n",
       "      <td>0.06125</td>\n",
       "    </tr>\n",
       "    <tr>\n",
       "      <th>clean price</th>\n",
       "      <td>89.03125</td>\n",
       "      <td>111.0391</td>\n",
       "    </tr>\n",
       "    <tr>\n",
       "      <th>accrued interest</th>\n",
       "      <td>0.6005</td>\n",
       "      <td>2.2636</td>\n",
       "    </tr>\n",
       "    <tr>\n",
       "      <th>ytm</th>\n",
       "      <td>0.037677</td>\n",
       "      <td>0.038784</td>\n",
       "    </tr>\n",
       "    <tr>\n",
       "      <th>duration</th>\n",
       "      <td>5.3494</td>\n",
       "      <td>4.7967</td>\n",
       "    </tr>\n",
       "  </tbody>\n",
       "</table>\n",
       "</div>"
      ],
      "text/plain": [
       "                      207391      204095\n",
       "issue date        2019-08-15  1999-08-15\n",
       "maturity date     2029-08-15  2029-08-15\n",
       "coupon rate          0.01625     0.06125\n",
       "clean price         89.03125    111.0391\n",
       "accrued interest      0.6005      2.2636\n",
       "ytm                 0.037677    0.038784\n",
       "duration              5.3494      4.7967"
      ]
     },
     "execution_count": 39,
     "metadata": {},
     "output_type": "execute_result"
    }
   ],
   "source": [
    "import pandas as pd\n",
    "summary = pd.DataFrame(index=[],columns = [207391,204095],dtype=float)\n",
    "summary.loc['issue date'] = ['2019-08-15','1999-08-15']\n",
    "summary.loc['maturity date'] = ['2029-08-15','2029-08-15']\n",
    "summary.loc['coupon rate'] = [.01625, .06125]\n",
    "summary.loc['clean price'] = [89.03125,111.0391]\n",
    "summary.loc['accrued interest'] = [.6005, 2.2636]\n",
    "summary.loc['ytm'] = [.037677, .038784]\n",
    "summary.loc['duration'] = [5.3494,4.7967]\n",
    "summary"
   ]
  },
  {
   "cell_type": "markdown",
   "metadata": {},
   "source": [
    "### 1.1. (5pts)\n",
    "\n",
    "Explain the long-short trade you would enter based on the market data above, without any further calculation. "
   ]
  },
  {
   "cell_type": "markdown",
   "metadata": {},
   "source": [
    "### 1.2. (5pts)\n",
    "\n",
    "Size your trade.\n",
    "* Suppose the long side is set to $100 million market value. \n",
    "* Size the short to be duration-neutral.\n",
    "\n",
    "Report the market value in the short-side of the trade and the number of long and short contracts."
   ]
  },
  {
   "cell_type": "markdown",
   "metadata": {},
   "source": [
    "### 1.3. (5pts)\n",
    "\n",
    "What are the risks of this trade in the short-term and in the long-term?"
   ]
  },
  {
   "cell_type": "markdown",
   "metadata": {},
   "source": [
    "### 1.4. (5pts)\n",
    "\n",
    "Use **modified duration**--not the Macauley duration reported above--to estimate how much pnl will be earned if the securities converge (symmetrically)."
   ]
  },
  {
   "cell_type": "markdown",
   "metadata": {},
   "source": [
    "### 1.5. (5pts)\n",
    "\n",
    "For which of these securities will the duration approximation be less accurate? Explain."
   ]
  },
  {
   "cell_type": "markdown",
   "metadata": {},
   "source": [
    "***"
   ]
  },
  {
   "cell_type": "markdown",
   "metadata": {},
   "source": [
    "# <span style=\"color:red\">Solution 1</span>"
   ]
  },
  {
   "cell_type": "code",
   "execution_count": 40,
   "metadata": {},
   "outputs": [],
   "source": [
    "import numpy as np\n",
    "import datetime\n",
    "import warnings\n",
    "warnings.filterwarnings('ignore',category=FutureWarning)\n",
    "\n",
    "from sklearn.linear_model import LinearRegression\n",
    "from sklearn.decomposition import PCA\n",
    "from scipy.optimize import minimize\n",
    "\n",
    "import matplotlib.pyplot as plt\n",
    "%matplotlib inline\n",
    "plt.rcParams['figure.figsize'] = (12,6)\n",
    "plt.rcParams['font.size'] = 15\n",
    "plt.rcParams['legend.fontsize'] = 13\n",
    "\n",
    "from matplotlib.ticker import (MultipleLocator,\n",
    "                               FormatStrFormatter,\n",
    "                               AutoMinorLocator)\n",
    "\n",
    "import sys\n",
    "sys.path.insert(0, '../cmds')\n",
    "from treasury_cmds import *\n",
    "from tradebondpair import *"
   ]
  },
  {
   "cell_type": "markdown",
   "metadata": {},
   "source": [
    "## <span style=\"color:red\">1.1</span>"
   ]
  },
  {
   "cell_type": "markdown",
   "metadata": {},
   "source": [
    "We should go **long** the **higher** YTM, and **short** the **lower** YTM.\n",
    "\n",
    "Note that this is **not** the same as going long the bond with lower price and shorting the bond with higher price. Given the difference in coupons, the higher price is not indicative of the 30-year being a worse deal. Rather, its higher YTM shows it is more attractive.\n",
    "\n",
    "Optionally, one could mention that the long-short trade might be sized to \n",
    "* be duration neutral to reduce sensitivity to changes in interest rates. \n",
    "* be dollar neutral to be self-funded with very low net duration."
   ]
  },
  {
   "cell_type": "markdown",
   "metadata": {},
   "source": [
    "## <span style=\"color:red\">1.2</span>"
   ]
  },
  {
   "cell_type": "markdown",
   "metadata": {},
   "source": [
    "Use the formula seen in class:\n",
    "\n",
    "$$n_j = -n_i\\frac{D_{\\$,i}}{D_{\\$,j}}$$\n",
    "\n",
    "Use dollar duration in this formula, based on the **dirty** price.\n",
    "\n",
    "#### Grading note\n",
    "Partial credit for using \n",
    "* duration instead of dollar duration\n",
    "* calculating dollar duration via clean price instead of dirty price."
   ]
  },
  {
   "cell_type": "code",
   "execution_count": 41,
   "metadata": {},
   "outputs": [
    {
     "data": {
      "text/html": [
       "<style type=\"text/css\">\n",
       "</style>\n",
       "<table id=\"T_f7877\">\n",
       "  <thead>\n",
       "    <tr>\n",
       "      <th class=\"blank level0\" >&nbsp;</th>\n",
       "      <th id=\"T_f7877_level0_col0\" class=\"col_heading level0 col0\" >dirty price</th>\n",
       "      <th id=\"T_f7877_level0_col1\" class=\"col_heading level0 col1\" >dollar duration</th>\n",
       "      <th id=\"T_f7877_level0_col2\" class=\"col_heading level0 col2\" >contracts</th>\n",
       "      <th id=\"T_f7877_level0_col3\" class=\"col_heading level0 col3\" >market value</th>\n",
       "    </tr>\n",
       "  </thead>\n",
       "  <tbody>\n",
       "    <tr>\n",
       "      <th id=\"T_f7877_level0_row0\" class=\"row_heading level0 row0\" >207391</th>\n",
       "      <td id=\"T_f7877_row0_col0\" class=\"data row0 col0\" >89.63</td>\n",
       "      <td id=\"T_f7877_row0_col1\" class=\"data row0 col1\" >479.48</td>\n",
       "      <td id=\"T_f7877_row0_col2\" class=\"data row0 col2\" >-1,000,404.43</td>\n",
       "      <td id=\"T_f7877_row0_col3\" class=\"data row0 col3\" >-89,668,000.15</td>\n",
       "    </tr>\n",
       "    <tr>\n",
       "      <th id=\"T_f7877_level0_row1\" class=\"row_heading level0 row1\" >204095</th>\n",
       "      <td id=\"T_f7877_row1_col0\" class=\"data row1 col0\" >113.30</td>\n",
       "      <td id=\"T_f7877_row1_col1\" class=\"data row1 col1\" >543.48</td>\n",
       "      <td id=\"T_f7877_row1_col2\" class=\"data row1 col2\" >882,591.50</td>\n",
       "      <td id=\"T_f7877_row1_col3\" class=\"data row1 col3\" >100,000,000.00</td>\n",
       "    </tr>\n",
       "  </tbody>\n",
       "</table>\n"
      ],
      "text/plain": [
       "<pandas.io.formats.style.Styler at 0x1ca58b889b0>"
      ]
     },
     "execution_count": 41,
     "metadata": {},
     "output_type": "execute_result"
    }
   ],
   "source": [
    "SIZELONG = 100e6\n",
    "\n",
    "summary.loc['dirty price'] = summary.loc['clean price'] + summary.loc['accrued interest']\n",
    "summary.loc['dollar duration'] = summary.loc['duration'] * summary.loc['dirty price']\n",
    "\n",
    "keyLong = summary.loc['ytm'].astype('float64').idxmax()\n",
    "keyShort = summary.loc['ytm'].astype('float64').idxmin()\n",
    "\n",
    "summary.loc['contracts',keyLong] = SIZELONG / summary.loc['dirty price',keyLong]\n",
    "summary.loc['contracts',keyShort] = -summary.loc['contracts',keyLong] * (summary.loc['dollar duration',keyLong]/summary.loc['dollar duration',keyShort])\n",
    "summary.loc['market value'] = summary.loc['contracts'] * summary.loc['dirty price']\n",
    "\n",
    "out = summary.loc[['dirty price', 'dollar duration', 'contracts','market value']].T\n",
    "out.style.format('{:,.2f}')"
   ]
  },
  {
   "cell_type": "markdown",
   "metadata": {},
   "source": [
    "## <span style=\"color:red\">1.3</span>"
   ]
  },
  {
   "cell_type": "markdown",
   "metadata": {},
   "source": [
    "In the **long-term**, there is no market risk.\n",
    "* If held to maturity, guaranteed to profit according to difference in YTM.\n",
    "\n",
    "In the **short-term**, there is market risk.\n",
    "* The YTM could diverge further, causing a short-term loss. \n",
    "* This could pressure the trader to unwind due to financing and short-term losses."
   ]
  },
  {
   "cell_type": "markdown",
   "metadata": {},
   "source": [
    "## <span style=\"color:red\">1.4</span>"
   ]
  },
  {
   "cell_type": "markdown",
   "metadata": {},
   "source": [
    "The table below shows the modified duration and approximated percentage change in value of each side of the trade.\n",
    "\n",
    "* The final row shows the pnl approximation based on the trade size from `1.2` above.\n",
    "* Note that the shift in the YTM approximated is half the total YTM spread on each side.\n",
    "\n",
    "#### Formula\n",
    "\n",
    "From `W.2.`, modified duration is (for semiannually compounding)\n",
    "\n",
    "$$D\\frac{1}{1+y/2}$$"
   ]
  },
  {
   "cell_type": "code",
   "execution_count": 42,
   "metadata": {},
   "outputs": [
    {
     "data": {
      "text/html": [
       "<style type=\"text/css\">\n",
       "</style>\n",
       "<table id=\"T_e3eba\">\n",
       "  <thead>\n",
       "    <tr>\n",
       "      <th class=\"blank level0\" >&nbsp;</th>\n",
       "      <th id=\"T_e3eba_level0_col0\" class=\"col_heading level0 col0\" >ytm</th>\n",
       "      <th id=\"T_e3eba_level0_col1\" class=\"col_heading level0 col1\" >duration</th>\n",
       "      <th id=\"T_e3eba_level0_col2\" class=\"col_heading level0 col2\" >ytm convergence</th>\n",
       "      <th id=\"T_e3eba_level0_col3\" class=\"col_heading level0 col3\" >modified duration</th>\n",
       "      <th id=\"T_e3eba_level0_col4\" class=\"col_heading level0 col4\" >pct change value</th>\n",
       "      <th id=\"T_e3eba_level0_col5\" class=\"col_heading level0 col5\" >pnl</th>\n",
       "    </tr>\n",
       "  </thead>\n",
       "  <tbody>\n",
       "    <tr>\n",
       "      <th id=\"T_e3eba_level0_row0\" class=\"row_heading level0 row0\" >207391</th>\n",
       "      <td id=\"T_e3eba_row0_col0\" class=\"data row0 col0\" >3.77%</td>\n",
       "      <td id=\"T_e3eba_row0_col1\" class=\"data row0 col1\" >5.349400</td>\n",
       "      <td id=\"T_e3eba_row0_col2\" class=\"data row0 col2\" >0.000553</td>\n",
       "      <td id=\"T_e3eba_row0_col3\" class=\"data row0 col3\" >5.250489</td>\n",
       "      <td id=\"T_e3eba_row0_col4\" class=\"data row0 col4\" >-0.29%</td>\n",
       "      <td id=\"T_e3eba_row0_col5\" class=\"data row0 col5\" >$260,588.25</td>\n",
       "    </tr>\n",
       "    <tr>\n",
       "      <th id=\"T_e3eba_level0_row1\" class=\"row_heading level0 row1\" >204095</th>\n",
       "      <td id=\"T_e3eba_row1_col0\" class=\"data row1 col0\" >3.88%</td>\n",
       "      <td id=\"T_e3eba_row1_col1\" class=\"data row1 col1\" >4.796700</td>\n",
       "      <td id=\"T_e3eba_row1_col2\" class=\"data row1 col2\" >-0.000553</td>\n",
       "      <td id=\"T_e3eba_row1_col3\" class=\"data row1 col3\" >4.705452</td>\n",
       "      <td id=\"T_e3eba_row1_col4\" class=\"data row1 col4\" >0.26%</td>\n",
       "      <td id=\"T_e3eba_row1_col5\" class=\"data row1 col5\" >$260,446.76</td>\n",
       "    </tr>\n",
       "    <tr>\n",
       "      <th id=\"T_e3eba_level0_row2\" class=\"row_heading level0 row2\" >net</th>\n",
       "      <td id=\"T_e3eba_row2_col0\" class=\"data row2 col0\" >nan%</td>\n",
       "      <td id=\"T_e3eba_row2_col1\" class=\"data row2 col1\" >nan</td>\n",
       "      <td id=\"T_e3eba_row2_col2\" class=\"data row2 col2\" >nan</td>\n",
       "      <td id=\"T_e3eba_row2_col3\" class=\"data row2 col3\" >nan</td>\n",
       "      <td id=\"T_e3eba_row2_col4\" class=\"data row2 col4\" >nan%</td>\n",
       "      <td id=\"T_e3eba_row2_col5\" class=\"data row2 col5\" >$521,035.01</td>\n",
       "    </tr>\n",
       "  </tbody>\n",
       "</table>\n"
      ],
      "text/plain": [
       "<pandas.io.formats.style.Styler at 0x1ca58a03fb0>"
      ]
     },
     "execution_count": 42,
     "metadata": {},
     "output_type": "execute_result"
    }
   ],
   "source": [
    "COMPOUNDING = 2\n",
    "\n",
    "pnl_approx = summary.loc[['ytm','duration']].copy()\n",
    "\n",
    "ytm_convergence = pnl_approx.loc['ytm',keyLong] - pnl_approx.loc['ytm',keyShort]\n",
    "pnl_approx.loc['ytm convergence',keyLong] = -ytm_convergence/2\n",
    "pnl_approx.loc['ytm convergence',keyShort] = ytm_convergence/2\n",
    "\n",
    "pnl_approx.loc['modified duration'] = pnl_approx.loc['duration'] / (1+pnl_approx.loc['ytm']/COMPOUNDING)\n",
    "pnl_approx.loc['pct change value'] = -pnl_approx.loc['modified duration'] * pnl_approx.loc['ytm convergence']\n",
    "\n",
    "pnl_approx.loc['pnl'] = pnl_approx.loc['pct change value'] * out['market value']\n",
    "pnl_approx = pnl_approx.T\n",
    "\n",
    "pnl_approx.loc['net','pnl'] = pnl_approx['pnl'].sum()\n",
    "\n",
    "pnl_approx.style.format({'ytm':'{:.2%}','pct change value':'{:.2%}','pnl':'${:,.2f}'})"
   ]
  },
  {
   "cell_type": "markdown",
   "metadata": {},
   "source": [
    "## <span style=\"color:red\">1.5</span>"
   ]
  },
  {
   "cell_type": "markdown",
   "metadata": {},
   "source": [
    "The lower coupon security will have higher convexity and thus **less accurate** approximation of pnl via duration."
   ]
  },
  {
   "cell_type": "code",
   "execution_count": 43,
   "metadata": {},
   "outputs": [
    {
     "data": {
      "text/plain": [
       "'The SHORT position will have a less accurate duration approximation due to higher convexity.'"
      ]
     },
     "metadata": {},
     "output_type": "display_data"
    }
   ],
   "source": [
    "if summary.loc['coupon rate'].idxmin()==keyLong:\n",
    "    idPos = 'LONG'\n",
    "else:\n",
    "    idPos = 'SHORT'\n",
    "    \n",
    "display(f'The {idPos} position will have a less accurate duration approximation due to higher convexity.')"
   ]
  },
  {
   "cell_type": "markdown",
   "metadata": {},
   "source": [
    "***"
   ]
  },
  {
   "cell_type": "markdown",
   "metadata": {},
   "source": [
    "# 2. Extracting Curves"
   ]
  },
  {
   "cell_type": "markdown",
   "metadata": {},
   "source": [
    "Use the selected treasury quotes in the file, `select_maturities_2017-02-07.xlsx`.\n",
    "\n",
    "* Market quots are provided for treasury securities expiring approximately every six months over the next ten years.\n",
    "* You are welcome to assume that they mature at exaclty six-year increments or to use the exact dates.\n",
    "* Consider the `price` column to represent the dirty mid price. Use it as quoted, without further adjustment."
   ]
  },
  {
   "cell_type": "markdown",
   "metadata": {},
   "source": [
    "### 2.1 (10pts)\n",
    "\n",
    "Bootstrap the spot curve. Report it in both...\n",
    "* discount factors, $Z$\n",
    "* (semiannually compounded) discount rates, $r$"
   ]
  },
  {
   "cell_type": "markdown",
   "metadata": {},
   "source": [
    "### 2.2 (10pts)\n",
    "\n",
    "Calculate the Nelson-Siegel curve using the parameters below. (Not the NS-extended; just four parameters.)\n",
    "\n",
    "Report both\n",
    "* discount factors, $Z$\n",
    "* (semiannually compounded) discount rates, $r$"
   ]
  },
  {
   "cell_type": "code",
   "execution_count": 44,
   "metadata": {},
   "outputs": [
    {
     "data": {
      "text/html": [
       "<div>\n",
       "<style scoped>\n",
       "    .dataframe tbody tr th:only-of-type {\n",
       "        vertical-align: middle;\n",
       "    }\n",
       "\n",
       "    .dataframe tbody tr th {\n",
       "        vertical-align: top;\n",
       "    }\n",
       "\n",
       "    .dataframe thead th {\n",
       "        text-align: right;\n",
       "    }\n",
       "</style>\n",
       "<table border=\"1\" class=\"dataframe\">\n",
       "  <thead>\n",
       "    <tr style=\"text-align: right;\">\n",
       "      <th></th>\n",
       "      <th>theta0</th>\n",
       "      <th>theta1</th>\n",
       "      <th>theta2</th>\n",
       "      <th>lambda1</th>\n",
       "    </tr>\n",
       "  </thead>\n",
       "  <tbody>\n",
       "    <tr>\n",
       "      <th>Nelson-Siegel parameters</th>\n",
       "      <td>0.031627</td>\n",
       "      <td>-0.025166</td>\n",
       "      <td>-0.020701</td>\n",
       "      <td>1.514887</td>\n",
       "    </tr>\n",
       "  </tbody>\n",
       "</table>\n",
       "</div>"
      ],
      "text/plain": [
       "                            theta0    theta1    theta2   lambda1\n",
       "Nelson-Siegel parameters  0.031627 -0.025166 -0.020701  1.514887"
      ]
     },
     "metadata": {},
     "output_type": "display_data"
    }
   ],
   "source": [
    "params = pd.DataFrame(columns=['Nelson-Siegel parameters'],index=['theta0', 'theta1','theta2','lambda1'],data=[0.031627,-0.025166, -0.020701, 1.514887]).T\n",
    "display(params)"
   ]
  },
  {
   "cell_type": "markdown",
   "metadata": {},
   "source": [
    "### 2.3 (5pts)\n",
    "\n",
    "Plot...\n",
    "* bootstrapped spot rates\n",
    "* Nelson-Siegel spot rates\n",
    "* provided ytm"
   ]
  },
  {
   "cell_type": "markdown",
   "metadata": {},
   "source": [
    "### 2.4 (10pts)\n",
    "\n",
    "Which of the two spot rate curves (bootstrapped or Nelson-Siegel) would be better for...\n",
    "* pricing the provided sample?\n",
    "* building spot rates out to 30 years?\n",
    "* calculating forward rates?\n",
    "\n",
    "For each of these three questions, be **specific** in your answer."
   ]
  },
  {
   "cell_type": "markdown",
   "metadata": {},
   "source": [
    "### 2.5 (5pts)\n",
    "\n",
    "Consider the bootstrapped curve and its associated forward curve. (No need to calculate the forward curve.)\n",
    "\n",
    "Conceptually, do you expect it is higher or lower than the spot-rate curve at\n",
    "* $T=1$\n",
    "* $T=10$\n",
    "\n",
    "Explain."
   ]
  },
  {
   "cell_type": "markdown",
   "metadata": {},
   "source": [
    "### 2.6 (5pts)\n",
    "\n",
    "Use the bootstrapped spot curve to calculate the forward rate for $T_1=3\\to T_2=3.5$."
   ]
  },
  {
   "cell_type": "markdown",
   "metadata": {},
   "source": [
    "***"
   ]
  },
  {
   "cell_type": "markdown",
   "metadata": {},
   "source": [
    "# <span style=\"color:red\">Solution 2</span>"
   ]
  },
  {
   "cell_type": "code",
   "execution_count": 45,
   "metadata": {},
   "outputs": [
    {
     "data": {
      "text/html": [
       "<div>\n",
       "<style scoped>\n",
       "    .dataframe tbody tr th:only-of-type {\n",
       "        vertical-align: middle;\n",
       "    }\n",
       "\n",
       "    .dataframe tbody tr th {\n",
       "        vertical-align: top;\n",
       "    }\n",
       "\n",
       "    .dataframe thead th {\n",
       "        text-align: right;\n",
       "    }\n",
       "</style>\n",
       "<table border=\"1\" class=\"dataframe\">\n",
       "  <thead>\n",
       "    <tr style=\"text-align: right;\">\n",
       "      <th></th>\n",
       "      <th>date</th>\n",
       "      <th>issue date</th>\n",
       "      <th>maturity date</th>\n",
       "      <th>ttm</th>\n",
       "      <th>bid</th>\n",
       "      <th>ask</th>\n",
       "      <th>accrint</th>\n",
       "      <th>ytm</th>\n",
       "      <th>duration</th>\n",
       "      <th>outstanding</th>\n",
       "      <th>cpn rate</th>\n",
       "      <th>instrument</th>\n",
       "      <th>price</th>\n",
       "    </tr>\n",
       "    <tr>\n",
       "      <th>kytreasno</th>\n",
       "      <th></th>\n",
       "      <th></th>\n",
       "      <th></th>\n",
       "      <th></th>\n",
       "      <th></th>\n",
       "      <th></th>\n",
       "      <th></th>\n",
       "      <th></th>\n",
       "      <th></th>\n",
       "      <th></th>\n",
       "      <th></th>\n",
       "      <th></th>\n",
       "      <th></th>\n",
       "    </tr>\n",
       "  </thead>\n",
       "  <tbody>\n",
       "    <tr>\n",
       "      <th>206525</th>\n",
       "      <td>2017-02-07</td>\n",
       "      <td>2012-08-31</td>\n",
       "      <td>2017-08-31</td>\n",
       "      <td>0.561259</td>\n",
       "      <td>99.945312</td>\n",
       "      <td>99.984375</td>\n",
       "      <td>0.276243</td>\n",
       "      <td>0.006830</td>\n",
       "      <td>0.559690</td>\n",
       "      <td>60995</td>\n",
       "      <td>0.625</td>\n",
       "      <td>2</td>\n",
       "      <td>100.241087</td>\n",
       "    </tr>\n",
       "    <tr>\n",
       "      <th>206589</th>\n",
       "      <td>2017-02-07</td>\n",
       "      <td>2013-02-28</td>\n",
       "      <td>2018-02-28</td>\n",
       "      <td>1.056810</td>\n",
       "      <td>99.835938</td>\n",
       "      <td>99.875000</td>\n",
       "      <td>0.331492</td>\n",
       "      <td>0.008865</td>\n",
       "      <td>1.051226</td>\n",
       "      <td>69708</td>\n",
       "      <td>0.750</td>\n",
       "      <td>2</td>\n",
       "      <td>100.186960</td>\n",
       "    </tr>\n",
       "    <tr>\n",
       "      <th>207005</th>\n",
       "      <td>2017-02-07</td>\n",
       "      <td>2016-08-31</td>\n",
       "      <td>2018-08-31</td>\n",
       "      <td>1.560575</td>\n",
       "      <td>99.531250</td>\n",
       "      <td>99.570312</td>\n",
       "      <td>0.331492</td>\n",
       "      <td>0.010370</td>\n",
       "      <td>1.549334</td>\n",
       "      <td>27778</td>\n",
       "      <td>0.750</td>\n",
       "      <td>2</td>\n",
       "      <td>99.882273</td>\n",
       "    </tr>\n",
       "    <tr>\n",
       "      <th>206708</th>\n",
       "      <td>2017-02-07</td>\n",
       "      <td>2014-02-28</td>\n",
       "      <td>2019-02-28</td>\n",
       "      <td>2.056126</td>\n",
       "      <td>100.570312</td>\n",
       "      <td>100.617188</td>\n",
       "      <td>0.662983</td>\n",
       "      <td>0.012044</td>\n",
       "      <td>2.019424</td>\n",
       "      <td>35097</td>\n",
       "      <td>1.500</td>\n",
       "      <td>2</td>\n",
       "      <td>101.256733</td>\n",
       "    </tr>\n",
       "    <tr>\n",
       "      <th>206767</th>\n",
       "      <td>2017-02-07</td>\n",
       "      <td>2014-08-31</td>\n",
       "      <td>2019-08-31</td>\n",
       "      <td>2.559890</td>\n",
       "      <td>100.710938</td>\n",
       "      <td>100.734375</td>\n",
       "      <td>0.718232</td>\n",
       "      <td>0.013312</td>\n",
       "      <td>2.500337</td>\n",
       "      <td>35002</td>\n",
       "      <td>1.625</td>\n",
       "      <td>2</td>\n",
       "      <td>101.440888</td>\n",
       "    </tr>\n",
       "    <tr>\n",
       "      <th>206823</th>\n",
       "      <td>2017-02-07</td>\n",
       "      <td>2015-02-28</td>\n",
       "      <td>2020-02-29</td>\n",
       "      <td>3.058179</td>\n",
       "      <td>99.718750</td>\n",
       "      <td>99.765625</td>\n",
       "      <td>0.607735</td>\n",
       "      <td>0.014560</td>\n",
       "      <td>2.987188</td>\n",
       "      <td>34999</td>\n",
       "      <td>1.375</td>\n",
       "      <td>2</td>\n",
       "      <td>100.349922</td>\n",
       "    </tr>\n",
       "    <tr>\n",
       "      <th>206887</th>\n",
       "      <td>2017-02-07</td>\n",
       "      <td>2015-08-31</td>\n",
       "      <td>2020-08-31</td>\n",
       "      <td>3.561944</td>\n",
       "      <td>99.218750</td>\n",
       "      <td>99.265625</td>\n",
       "      <td>0.607735</td>\n",
       "      <td>0.015868</td>\n",
       "      <td>3.466990</td>\n",
       "      <td>35000</td>\n",
       "      <td>1.375</td>\n",
       "      <td>2</td>\n",
       "      <td>99.849922</td>\n",
       "    </tr>\n",
       "    <tr>\n",
       "      <th>206947</th>\n",
       "      <td>2017-02-07</td>\n",
       "      <td>2016-02-29</td>\n",
       "      <td>2021-02-28</td>\n",
       "      <td>4.057495</td>\n",
       "      <td>97.664062</td>\n",
       "      <td>97.710938</td>\n",
       "      <td>0.497238</td>\n",
       "      <td>0.017102</td>\n",
       "      <td>3.956565</td>\n",
       "      <td>45395</td>\n",
       "      <td>1.125</td>\n",
       "      <td>2</td>\n",
       "      <td>98.184738</td>\n",
       "    </tr>\n",
       "    <tr>\n",
       "      <th>207007</th>\n",
       "      <td>2017-02-07</td>\n",
       "      <td>2016-08-31</td>\n",
       "      <td>2021-08-31</td>\n",
       "      <td>4.561259</td>\n",
       "      <td>97.031250</td>\n",
       "      <td>97.078125</td>\n",
       "      <td>0.497238</td>\n",
       "      <td>0.017916</td>\n",
       "      <td>4.434572</td>\n",
       "      <td>36326</td>\n",
       "      <td>1.125</td>\n",
       "      <td>2</td>\n",
       "      <td>97.551925</td>\n",
       "    </tr>\n",
       "    <tr>\n",
       "      <th>206824</th>\n",
       "      <td>2017-02-07</td>\n",
       "      <td>2015-02-28</td>\n",
       "      <td>2022-02-28</td>\n",
       "      <td>5.056810</td>\n",
       "      <td>99.351562</td>\n",
       "      <td>99.398438</td>\n",
       "      <td>0.773481</td>\n",
       "      <td>0.018716</td>\n",
       "      <td>4.823581</td>\n",
       "      <td>29000</td>\n",
       "      <td>1.750</td>\n",
       "      <td>2</td>\n",
       "      <td>100.148481</td>\n",
       "    </tr>\n",
       "    <tr>\n",
       "      <th>206888</th>\n",
       "      <td>2017-02-07</td>\n",
       "      <td>2015-08-31</td>\n",
       "      <td>2022-08-31</td>\n",
       "      <td>5.560575</td>\n",
       "      <td>99.375000</td>\n",
       "      <td>99.421875</td>\n",
       "      <td>0.828729</td>\n",
       "      <td>0.019790</td>\n",
       "      <td>5.261994</td>\n",
       "      <td>29000</td>\n",
       "      <td>1.875</td>\n",
       "      <td>2</td>\n",
       "      <td>100.227167</td>\n",
       "    </tr>\n",
       "    <tr>\n",
       "      <th>206948</th>\n",
       "      <td>2017-02-07</td>\n",
       "      <td>2016-02-29</td>\n",
       "      <td>2023-02-28</td>\n",
       "      <td>6.056126</td>\n",
       "      <td>96.734375</td>\n",
       "      <td>96.781250</td>\n",
       "      <td>0.662983</td>\n",
       "      <td>0.020621</td>\n",
       "      <td>5.767494</td>\n",
       "      <td>37384</td>\n",
       "      <td>1.500</td>\n",
       "      <td>2</td>\n",
       "      <td>97.420796</td>\n",
       "    </tr>\n",
       "    <tr>\n",
       "      <th>207008</th>\n",
       "      <td>2017-02-07</td>\n",
       "      <td>2016-08-31</td>\n",
       "      <td>2023-08-31</td>\n",
       "      <td>6.559890</td>\n",
       "      <td>95.320312</td>\n",
       "      <td>95.367188</td>\n",
       "      <td>0.607735</td>\n",
       "      <td>0.021277</td>\n",
       "      <td>6.247583</td>\n",
       "      <td>29915</td>\n",
       "      <td>1.375</td>\n",
       "      <td>2</td>\n",
       "      <td>95.951485</td>\n",
       "    </tr>\n",
       "    <tr>\n",
       "      <th>206710</th>\n",
       "      <td>2017-02-07</td>\n",
       "      <td>2014-02-15</td>\n",
       "      <td>2024-02-15</td>\n",
       "      <td>7.019849</td>\n",
       "      <td>103.703125</td>\n",
       "      <td>103.765625</td>\n",
       "      <td>1.315217</td>\n",
       "      <td>0.021626</td>\n",
       "      <td>6.363820</td>\n",
       "      <td>65997</td>\n",
       "      <td>2.750</td>\n",
       "      <td>2</td>\n",
       "      <td>105.049592</td>\n",
       "    </tr>\n",
       "    <tr>\n",
       "      <th>206769</th>\n",
       "      <td>2017-02-07</td>\n",
       "      <td>2014-08-15</td>\n",
       "      <td>2024-08-15</td>\n",
       "      <td>7.518138</td>\n",
       "      <td>100.929688</td>\n",
       "      <td>100.992188</td>\n",
       "      <td>1.135870</td>\n",
       "      <td>0.022242</td>\n",
       "      <td>6.855460</td>\n",
       "      <td>65999</td>\n",
       "      <td>2.375</td>\n",
       "      <td>2</td>\n",
       "      <td>102.096807</td>\n",
       "    </tr>\n",
       "    <tr>\n",
       "      <th>206825</th>\n",
       "      <td>2017-02-07</td>\n",
       "      <td>2015-02-15</td>\n",
       "      <td>2025-02-15</td>\n",
       "      <td>8.021903</td>\n",
       "      <td>97.796875</td>\n",
       "      <td>97.859375</td>\n",
       "      <td>0.956522</td>\n",
       "      <td>0.022850</td>\n",
       "      <td>7.370981</td>\n",
       "      <td>65995</td>\n",
       "      <td>2.000</td>\n",
       "      <td>2</td>\n",
       "      <td>98.784647</td>\n",
       "    </tr>\n",
       "    <tr>\n",
       "      <th>206889</th>\n",
       "      <td>2017-02-07</td>\n",
       "      <td>2015-08-15</td>\n",
       "      <td>2025-08-15</td>\n",
       "      <td>8.517454</td>\n",
       "      <td>97.328125</td>\n",
       "      <td>97.390625</td>\n",
       "      <td>0.956522</td>\n",
       "      <td>0.023312</td>\n",
       "      <td>7.786014</td>\n",
       "      <td>66483</td>\n",
       "      <td>2.000</td>\n",
       "      <td>2</td>\n",
       "      <td>98.315897</td>\n",
       "    </tr>\n",
       "    <tr>\n",
       "      <th>206949</th>\n",
       "      <td>2017-02-07</td>\n",
       "      <td>2016-02-15</td>\n",
       "      <td>2026-02-15</td>\n",
       "      <td>9.021218</td>\n",
       "      <td>93.843750</td>\n",
       "      <td>93.906250</td>\n",
       "      <td>0.777174</td>\n",
       "      <td>0.023697</td>\n",
       "      <td>8.334052</td>\n",
       "      <td>64947</td>\n",
       "      <td>1.625</td>\n",
       "      <td>2</td>\n",
       "      <td>94.652174</td>\n",
       "    </tr>\n",
       "    <tr>\n",
       "      <th>207009</th>\n",
       "      <td>2017-02-07</td>\n",
       "      <td>2016-08-15</td>\n",
       "      <td>2026-08-15</td>\n",
       "      <td>9.516769</td>\n",
       "      <td>92.406250</td>\n",
       "      <td>92.468750</td>\n",
       "      <td>0.717391</td>\n",
       "      <td>0.023799</td>\n",
       "      <td>8.804228</td>\n",
       "      <td>65356</td>\n",
       "      <td>1.500</td>\n",
       "      <td>2</td>\n",
       "      <td>93.154891</td>\n",
       "    </tr>\n",
       "    <tr>\n",
       "      <th>204089</th>\n",
       "      <td>2017-02-07</td>\n",
       "      <td>1997-02-15</td>\n",
       "      <td>2027-02-15</td>\n",
       "      <td>10.020534</td>\n",
       "      <td>137.554688</td>\n",
       "      <td>137.632812</td>\n",
       "      <td>3.168478</td>\n",
       "      <td>0.023717</td>\n",
       "      <td>7.725116</td>\n",
       "      <td>9522</td>\n",
       "      <td>6.625</td>\n",
       "      <td>1</td>\n",
       "      <td>140.762228</td>\n",
       "    </tr>\n",
       "  </tbody>\n",
       "</table>\n",
       "</div>"
      ],
      "text/plain": [
       "                date issue date maturity date        ttm         bid  \\\n",
       "kytreasno                                                              \n",
       "206525    2017-02-07 2012-08-31    2017-08-31   0.561259   99.945312   \n",
       "206589    2017-02-07 2013-02-28    2018-02-28   1.056810   99.835938   \n",
       "207005    2017-02-07 2016-08-31    2018-08-31   1.560575   99.531250   \n",
       "206708    2017-02-07 2014-02-28    2019-02-28   2.056126  100.570312   \n",
       "206767    2017-02-07 2014-08-31    2019-08-31   2.559890  100.710938   \n",
       "206823    2017-02-07 2015-02-28    2020-02-29   3.058179   99.718750   \n",
       "206887    2017-02-07 2015-08-31    2020-08-31   3.561944   99.218750   \n",
       "206947    2017-02-07 2016-02-29    2021-02-28   4.057495   97.664062   \n",
       "207007    2017-02-07 2016-08-31    2021-08-31   4.561259   97.031250   \n",
       "206824    2017-02-07 2015-02-28    2022-02-28   5.056810   99.351562   \n",
       "206888    2017-02-07 2015-08-31    2022-08-31   5.560575   99.375000   \n",
       "206948    2017-02-07 2016-02-29    2023-02-28   6.056126   96.734375   \n",
       "207008    2017-02-07 2016-08-31    2023-08-31   6.559890   95.320312   \n",
       "206710    2017-02-07 2014-02-15    2024-02-15   7.019849  103.703125   \n",
       "206769    2017-02-07 2014-08-15    2024-08-15   7.518138  100.929688   \n",
       "206825    2017-02-07 2015-02-15    2025-02-15   8.021903   97.796875   \n",
       "206889    2017-02-07 2015-08-15    2025-08-15   8.517454   97.328125   \n",
       "206949    2017-02-07 2016-02-15    2026-02-15   9.021218   93.843750   \n",
       "207009    2017-02-07 2016-08-15    2026-08-15   9.516769   92.406250   \n",
       "204089    2017-02-07 1997-02-15    2027-02-15  10.020534  137.554688   \n",
       "\n",
       "                  ask   accrint       ytm  duration  outstanding  cpn rate  \\\n",
       "kytreasno                                                                    \n",
       "206525      99.984375  0.276243  0.006830  0.559690        60995     0.625   \n",
       "206589      99.875000  0.331492  0.008865  1.051226        69708     0.750   \n",
       "207005      99.570312  0.331492  0.010370  1.549334        27778     0.750   \n",
       "206708     100.617188  0.662983  0.012044  2.019424        35097     1.500   \n",
       "206767     100.734375  0.718232  0.013312  2.500337        35002     1.625   \n",
       "206823      99.765625  0.607735  0.014560  2.987188        34999     1.375   \n",
       "206887      99.265625  0.607735  0.015868  3.466990        35000     1.375   \n",
       "206947      97.710938  0.497238  0.017102  3.956565        45395     1.125   \n",
       "207007      97.078125  0.497238  0.017916  4.434572        36326     1.125   \n",
       "206824      99.398438  0.773481  0.018716  4.823581        29000     1.750   \n",
       "206888      99.421875  0.828729  0.019790  5.261994        29000     1.875   \n",
       "206948      96.781250  0.662983  0.020621  5.767494        37384     1.500   \n",
       "207008      95.367188  0.607735  0.021277  6.247583        29915     1.375   \n",
       "206710     103.765625  1.315217  0.021626  6.363820        65997     2.750   \n",
       "206769     100.992188  1.135870  0.022242  6.855460        65999     2.375   \n",
       "206825      97.859375  0.956522  0.022850  7.370981        65995     2.000   \n",
       "206889      97.390625  0.956522  0.023312  7.786014        66483     2.000   \n",
       "206949      93.906250  0.777174  0.023697  8.334052        64947     1.625   \n",
       "207009      92.468750  0.717391  0.023799  8.804228        65356     1.500   \n",
       "204089     137.632812  3.168478  0.023717  7.725116         9522     6.625   \n",
       "\n",
       "           instrument       price  \n",
       "kytreasno                          \n",
       "206525              2  100.241087  \n",
       "206589              2  100.186960  \n",
       "207005              2   99.882273  \n",
       "206708              2  101.256733  \n",
       "206767              2  101.440888  \n",
       "206823              2  100.349922  \n",
       "206887              2   99.849922  \n",
       "206947              2   98.184738  \n",
       "207007              2   97.551925  \n",
       "206824              2  100.148481  \n",
       "206888              2  100.227167  \n",
       "206948              2   97.420796  \n",
       "207008              2   95.951485  \n",
       "206710              2  105.049592  \n",
       "206769              2  102.096807  \n",
       "206825              2   98.784647  \n",
       "206889              2   98.315897  \n",
       "206949              2   94.652174  \n",
       "207009              2   93.154891  \n",
       "204089              1  140.762228  "
      ]
     },
     "execution_count": 45,
     "metadata": {},
     "output_type": "execute_result"
    }
   ],
   "source": [
    "filepath = '../data/select_maturities_2017-02-07.xlsx'\n",
    "quotes = pd.read_excel(filepath).set_index('kytreasno')\n",
    "quotes['price'] = (quotes['bid'] + quotes['ask'])/2 + quotes['accrint']\n",
    "quotes"
   ]
  },
  {
   "cell_type": "markdown",
   "metadata": {},
   "source": [
    "## <span style=\"color:red\">2.1</span>"
   ]
  },
  {
   "cell_type": "code",
   "execution_count": 46,
   "metadata": {},
   "outputs": [],
   "source": [
    "import numpy as np\n",
    "from scipy.optimize import fsolve"
   ]
  },
  {
   "cell_type": "markdown",
   "metadata": {},
   "source": [
    "Consider the bootstrap function used in `Homework 4`:"
   ]
  },
  {
   "cell_type": "code",
   "execution_count": 47,
   "metadata": {},
   "outputs": [],
   "source": [
    "def bootstrap_spot_rates(df):\n",
    "    \"\"\"\n",
    "    Bootstraps spot rates from a dataframe of bond information.\n",
    "    \n",
    "    :param df: Pandas DataFrame with columns 'price', 'cpn rate', and 'ttm'\n",
    "    :return: Pandas Series of spot rates indexed by TTM\n",
    "    \"\"\"\n",
    "    # Ensure the DataFrame is sorted by TTM\n",
    "    df = df.sort_values(by='ttm')\n",
    "    \n",
    "    # Initialize a dictionary to store spot rates\n",
    "    spot_rates = {}\n",
    "\n",
    "    # Iterate over each bond\n",
    "    for index, row in df.iterrows():\n",
    "        ttm, coupon_rate, price = row['ttm'], row['cpn rate'], row['price']\n",
    "        cash_flows = [coupon_rate / 2] * round(ttm * 2)  # Semi-annual coupons\n",
    "        cash_flows[-1] += 100  # Add the face value to the last cash flow\n",
    "\n",
    "        # Function to calculate the present value of cash flows\n",
    "        def pv_of_cash_flows(spot_rate):\n",
    "            pv = 0\n",
    "            for t in range(1, len(cash_flows) + 1):\n",
    "                if t/2 in spot_rates:\n",
    "                    rate = spot_rates[t/2]\n",
    "                else:\n",
    "                    rate = spot_rate\n",
    "                pv += cash_flows[t - 1] / ((1 + rate / 2) ** t)\n",
    "            return pv\n",
    "\n",
    "        # Solve for the spot rate that sets the present value of cash flows equal to the bond price\n",
    "        spot_rate_guess = (cash_flows[-1] / price) ** (1/(ttm*2)) - 1\n",
    "        spot_rate = fsolve(lambda r: pv_of_cash_flows(r) - price, x0=spot_rate_guess)[0]\n",
    "\n",
    "        # Store the calculated spot rate\n",
    "        spot_rates[ttm] = spot_rate\n",
    "\n",
    "    return pd.Series(spot_rates)"
   ]
  },
  {
   "cell_type": "code",
   "execution_count": 48,
   "metadata": {},
   "outputs": [],
   "source": [
    "COMPOUNDING = 2\n",
    "\n",
    "spot = pd.DataFrame(bootstrap_spot_rates(quotes))\n",
    "spot.columns = ['rate']\n",
    "spot['discount factor'] = intrate_to_discount(spot['rate'],spot.index,n_compound=COMPOUNDING)"
   ]
  },
  {
   "cell_type": "code",
   "execution_count": 49,
   "metadata": {},
   "outputs": [
    {
     "data": {
      "text/html": [
       "<div>\n",
       "<style scoped>\n",
       "    .dataframe tbody tr th:only-of-type {\n",
       "        vertical-align: middle;\n",
       "    }\n",
       "\n",
       "    .dataframe tbody tr th {\n",
       "        vertical-align: top;\n",
       "    }\n",
       "\n",
       "    .dataframe thead th {\n",
       "        text-align: right;\n",
       "    }\n",
       "</style>\n",
       "<table border=\"1\" class=\"dataframe\">\n",
       "  <thead>\n",
       "    <tr style=\"text-align: right;\">\n",
       "      <th></th>\n",
       "      <th>rate</th>\n",
       "      <th>discount factor</th>\n",
       "    </tr>\n",
       "  </thead>\n",
       "  <tbody>\n",
       "    <tr>\n",
       "      <th>0.561259</th>\n",
       "      <td>0.001425</td>\n",
       "      <td>0.999201</td>\n",
       "    </tr>\n",
       "    <tr>\n",
       "      <th>1.056810</th>\n",
       "      <td>0.005623</td>\n",
       "      <td>0.994084</td>\n",
       "    </tr>\n",
       "    <tr>\n",
       "      <th>1.560575</th>\n",
       "      <td>0.008291</td>\n",
       "      <td>0.987170</td>\n",
       "    </tr>\n",
       "    <tr>\n",
       "      <th>2.056126</th>\n",
       "      <td>0.008648</td>\n",
       "      <td>0.982413</td>\n",
       "    </tr>\n",
       "    <tr>\n",
       "      <th>2.559890</th>\n",
       "      <td>0.010396</td>\n",
       "      <td>0.973805</td>\n",
       "    </tr>\n",
       "    <tr>\n",
       "      <th>3.058179</th>\n",
       "      <td>0.012558</td>\n",
       "      <td>0.962440</td>\n",
       "    </tr>\n",
       "    <tr>\n",
       "      <th>3.561944</th>\n",
       "      <td>0.014191</td>\n",
       "      <td>0.950878</td>\n",
       "    </tr>\n",
       "    <tr>\n",
       "      <th>4.057495</th>\n",
       "      <td>0.015953</td>\n",
       "      <td>0.937564</td>\n",
       "    </tr>\n",
       "    <tr>\n",
       "      <th>4.561259</th>\n",
       "      <td>0.016923</td>\n",
       "      <td>0.926015</td>\n",
       "    </tr>\n",
       "    <tr>\n",
       "      <th>5.056810</th>\n",
       "      <td>0.017189</td>\n",
       "      <td>0.917090</td>\n",
       "    </tr>\n",
       "    <tr>\n",
       "      <th>5.560575</th>\n",
       "      <td>0.018314</td>\n",
       "      <td>0.903596</td>\n",
       "    </tr>\n",
       "    <tr>\n",
       "      <th>6.056126</th>\n",
       "      <td>0.019577</td>\n",
       "      <td>0.888710</td>\n",
       "    </tr>\n",
       "    <tr>\n",
       "      <th>6.559890</th>\n",
       "      <td>0.020433</td>\n",
       "      <td>0.875152</td>\n",
       "    </tr>\n",
       "    <tr>\n",
       "      <th>7.019849</th>\n",
       "      <td>0.019741</td>\n",
       "      <td>0.871187</td>\n",
       "    </tr>\n",
       "    <tr>\n",
       "      <th>7.518138</th>\n",
       "      <td>0.020717</td>\n",
       "      <td>0.856456</td>\n",
       "    </tr>\n",
       "    <tr>\n",
       "      <th>8.021903</th>\n",
       "      <td>0.021663</td>\n",
       "      <td>0.841270</td>\n",
       "    </tr>\n",
       "    <tr>\n",
       "      <th>8.517454</th>\n",
       "      <td>0.022185</td>\n",
       "      <td>0.828682</td>\n",
       "    </tr>\n",
       "    <tr>\n",
       "      <th>9.021218</th>\n",
       "      <td>0.022858</td>\n",
       "      <td>0.814617</td>\n",
       "    </tr>\n",
       "    <tr>\n",
       "      <th>9.516769</th>\n",
       "      <td>0.023065</td>\n",
       "      <td>0.803927</td>\n",
       "    </tr>\n",
       "    <tr>\n",
       "      <th>10.020534</th>\n",
       "      <td>0.020874</td>\n",
       "      <td>0.812139</td>\n",
       "    </tr>\n",
       "  </tbody>\n",
       "</table>\n",
       "</div>"
      ],
      "text/plain": [
       "               rate  discount factor\n",
       "0.561259   0.001425         0.999201\n",
       "1.056810   0.005623         0.994084\n",
       "1.560575   0.008291         0.987170\n",
       "2.056126   0.008648         0.982413\n",
       "2.559890   0.010396         0.973805\n",
       "3.058179   0.012558         0.962440\n",
       "3.561944   0.014191         0.950878\n",
       "4.057495   0.015953         0.937564\n",
       "4.561259   0.016923         0.926015\n",
       "5.056810   0.017189         0.917090\n",
       "5.560575   0.018314         0.903596\n",
       "6.056126   0.019577         0.888710\n",
       "6.559890   0.020433         0.875152\n",
       "7.019849   0.019741         0.871187\n",
       "7.518138   0.020717         0.856456\n",
       "8.021903   0.021663         0.841270\n",
       "8.517454   0.022185         0.828682\n",
       "9.021218   0.022858         0.814617\n",
       "9.516769   0.023065         0.803927\n",
       "10.020534  0.020874         0.812139"
      ]
     },
     "execution_count": 49,
     "metadata": {},
     "output_type": "execute_result"
    }
   ],
   "source": [
    "spot"
   ]
  },
  {
   "cell_type": "markdown",
   "metadata": {},
   "source": [
    "## <span style=\"color:red\">2.2</span>"
   ]
  },
  {
   "cell_type": "code",
   "execution_count": 50,
   "metadata": {},
   "outputs": [
    {
     "data": {
      "text/html": [
       "<div>\n",
       "<style scoped>\n",
       "    .dataframe tbody tr th:only-of-type {\n",
       "        vertical-align: middle;\n",
       "    }\n",
       "\n",
       "    .dataframe tbody tr th {\n",
       "        vertical-align: top;\n",
       "    }\n",
       "\n",
       "    .dataframe thead th {\n",
       "        text-align: right;\n",
       "    }\n",
       "</style>\n",
       "<table border=\"1\" class=\"dataframe\">\n",
       "  <thead>\n",
       "    <tr style=\"text-align: right;\">\n",
       "      <th></th>\n",
       "      <th>rate</th>\n",
       "      <th>discount factor</th>\n",
       "    </tr>\n",
       "  </thead>\n",
       "  <tbody>\n",
       "    <tr>\n",
       "      <th>0.561259</th>\n",
       "      <td>0.007590</td>\n",
       "      <td>0.995757</td>\n",
       "    </tr>\n",
       "    <tr>\n",
       "      <th>1.056810</th>\n",
       "      <td>0.008911</td>\n",
       "      <td>0.990648</td>\n",
       "    </tr>\n",
       "    <tr>\n",
       "      <th>1.560575</th>\n",
       "      <td>0.010385</td>\n",
       "      <td>0.983965</td>\n",
       "    </tr>\n",
       "    <tr>\n",
       "      <th>2.056126</th>\n",
       "      <td>0.011858</td>\n",
       "      <td>0.975983</td>\n",
       "    </tr>\n",
       "    <tr>\n",
       "      <th>2.559890</th>\n",
       "      <td>0.013314</td>\n",
       "      <td>0.966602</td>\n",
       "    </tr>\n",
       "    <tr>\n",
       "      <th>3.058179</th>\n",
       "      <td>0.014674</td>\n",
       "      <td>0.956273</td>\n",
       "    </tr>\n",
       "    <tr>\n",
       "      <th>3.561944</th>\n",
       "      <td>0.015950</td>\n",
       "      <td>0.944985</td>\n",
       "    </tr>\n",
       "    <tr>\n",
       "      <th>4.057495</th>\n",
       "      <td>0.017100</td>\n",
       "      <td>0.933245</td>\n",
       "    </tr>\n",
       "    <tr>\n",
       "      <th>4.561259</th>\n",
       "      <td>0.018163</td>\n",
       "      <td>0.920836</td>\n",
       "    </tr>\n",
       "    <tr>\n",
       "      <th>5.056810</th>\n",
       "      <td>0.019109</td>\n",
       "      <td>0.908306</td>\n",
       "    </tr>\n",
       "    <tr>\n",
       "      <th>5.560575</th>\n",
       "      <td>0.019977</td>\n",
       "      <td>0.895360</td>\n",
       "    </tr>\n",
       "    <tr>\n",
       "      <th>6.056126</th>\n",
       "      <td>0.020744</td>\n",
       "      <td>0.882511</td>\n",
       "    </tr>\n",
       "    <tr>\n",
       "      <th>6.559890</th>\n",
       "      <td>0.021447</td>\n",
       "      <td>0.869411</td>\n",
       "    </tr>\n",
       "    <tr>\n",
       "      <th>7.019849</th>\n",
       "      <td>0.022026</td>\n",
       "      <td>0.857465</td>\n",
       "    </tr>\n",
       "    <tr>\n",
       "      <th>7.518138</th>\n",
       "      <td>0.022594</td>\n",
       "      <td>0.844581</td>\n",
       "    </tr>\n",
       "    <tr>\n",
       "      <th>8.021903</th>\n",
       "      <td>0.023113</td>\n",
       "      <td>0.831650</td>\n",
       "    </tr>\n",
       "    <tr>\n",
       "      <th>8.517454</th>\n",
       "      <td>0.023574</td>\n",
       "      <td>0.819048</td>\n",
       "    </tr>\n",
       "    <tr>\n",
       "      <th>9.021218</th>\n",
       "      <td>0.023998</td>\n",
       "      <td>0.806375</td>\n",
       "    </tr>\n",
       "    <tr>\n",
       "      <th>9.516769</th>\n",
       "      <td>0.024378</td>\n",
       "      <td>0.794058</td>\n",
       "    </tr>\n",
       "    <tr>\n",
       "      <th>10.020534</th>\n",
       "      <td>0.024730</td>\n",
       "      <td>0.781697</td>\n",
       "    </tr>\n",
       "  </tbody>\n",
       "</table>\n",
       "</div>"
      ],
      "text/plain": [
       "               rate  discount factor\n",
       "0.561259   0.007590         0.995757\n",
       "1.056810   0.008911         0.990648\n",
       "1.560575   0.010385         0.983965\n",
       "2.056126   0.011858         0.975983\n",
       "2.559890   0.013314         0.966602\n",
       "3.058179   0.014674         0.956273\n",
       "3.561944   0.015950         0.944985\n",
       "4.057495   0.017100         0.933245\n",
       "4.561259   0.018163         0.920836\n",
       "5.056810   0.019109         0.908306\n",
       "5.560575   0.019977         0.895360\n",
       "6.056126   0.020744         0.882511\n",
       "6.559890   0.021447         0.869411\n",
       "7.019849   0.022026         0.857465\n",
       "7.518138   0.022594         0.844581\n",
       "8.021903   0.023113         0.831650\n",
       "8.517454   0.023574         0.819048\n",
       "9.021218   0.023998         0.806375\n",
       "9.516769   0.024378         0.794058\n",
       "10.020534  0.024730         0.781697"
      ]
     },
     "execution_count": 50,
     "metadata": {},
     "output_type": "execute_result"
    }
   ],
   "source": [
    "ns = pd.DataFrame(nelson_siegel(params.iloc[0,:].values,spot.index),index=spot.index,columns=['rate'])\n",
    "ns['discount factor'] = intrate_to_discount(ns['rate'],ns.index,n_compound=COMPOUNDING)\n",
    "ns"
   ]
  },
  {
   "cell_type": "markdown",
   "metadata": {},
   "source": [
    "## <span style=\"color:red\">2.3</span>"
   ]
  },
  {
   "cell_type": "code",
   "execution_count": 51,
   "metadata": {},
   "outputs": [],
   "source": [
    "tab = spot[['rate']].copy()\n",
    "tab.columns = ['bootstrap']\n",
    "tab['nelson-siegel'] = ns[['rate']].copy()\n",
    "\n",
    "ax = tab.plot();\n",
    "(quotes[['ttm','ytm']].set_index('ttm')).plot(ax=ax,linestyle='',marker='*',color='k');"
   ]
  },
  {
   "cell_type": "markdown",
   "metadata": {},
   "source": [
    "## <span style=\"color:red\">2.4</span>"
   ]
  },
  {
   "cell_type": "markdown",
   "metadata": {},
   "source": [
    "* Bootstrap will price perfectly in-sample.\n",
    "* Nelson-Siegel can easily extend to arbitrary maturities, whereas the bootstrap will fail when TTM extends past available market data (~11 years).\n",
    "* Nelson-Siegel will generate smoother forward rates"
   ]
  },
  {
   "cell_type": "markdown",
   "metadata": {},
   "source": [
    "## <span style=\"color:red\">2.5</span>"
   ]
  },
  {
   "cell_type": "markdown",
   "metadata": {},
   "source": [
    "* The forward curve is above the spot curve at $T=1$.\n",
    "* The forward curve is below the spot curve at $T=10$.\n",
    "\n",
    "This can be inferred from the relationship seen in `W.4.` The spot curve increases if and only if the forward is above the spot. And the spot is decreasing if and only if the forward is below the spot."
   ]
  },
  {
   "cell_type": "markdown",
   "metadata": {},
   "source": [
    "## <span style=\"color:red\">2.6</span>"
   ]
  },
  {
   "cell_type": "markdown",
   "metadata": {},
   "source": [
    "From `Solution 4`.\n",
    "\n",
    "No need to show the entire curve--just report $T=3$ to $T=3.5$.\n",
    "\n",
    "Nearly full credit for reporting an adjacent forward rate."
   ]
  },
  {
   "cell_type": "code",
   "execution_count": 52,
   "metadata": {},
   "outputs": [],
   "source": [
    "forward = pd.DataFrame(spot['discount factor']/spot['discount factor'].shift(),index=spot.index, columns=['discount factor'])\n",
    "forward['discount factor'].iloc[0] = spot['discount factor'].iloc[0]\n",
    "forward['rate'] = -np.log(forward['discount factor']) / forward.index.to_series().diff().mean()"
   ]
  },
  {
   "cell_type": "code",
   "execution_count": 53,
   "metadata": {},
   "outputs": [
    {
     "data": {
      "text/plain": [
       "'The forward rate to 3.5 years is 2.43%'"
      ]
     },
     "metadata": {},
     "output_type": "display_data"
    }
   ],
   "source": [
    "T2 = 3.5\n",
    "\n",
    "# get index closest to value given Time-to-maturity are not exactly half years\n",
    "idx = forward.index[abs(forward.index - T2).argmin()]\n",
    "\n",
    "fwd_reported = forward.loc[idx,'rate']\n",
    "display(f'The forward rate to {T2} years is {fwd_reported:.2%}')"
   ]
  },
  {
   "cell_type": "code",
   "execution_count": 54,
   "metadata": {},
   "outputs": [
    {
     "data": {
      "text/html": [
       "<style type=\"text/css\">\n",
       "</style>\n",
       "<table id=\"T_88635\">\n",
       "  <thead>\n",
       "    <tr>\n",
       "      <th class=\"blank level0\" >&nbsp;</th>\n",
       "      <th id=\"T_88635_level0_col0\" class=\"col_heading level0 col0\" >rate</th>\n",
       "    </tr>\n",
       "  </thead>\n",
       "  <tbody>\n",
       "    <tr>\n",
       "      <th id=\"T_88635_level0_row0\" class=\"row_heading level0 row0\" >0.561259</th>\n",
       "      <td id=\"T_88635_row0_col0\" class=\"data row0 col0\" >0.16%</td>\n",
       "    </tr>\n",
       "    <tr>\n",
       "      <th id=\"T_88635_level0_row1\" class=\"row_heading level0 row1\" >1.056810</th>\n",
       "      <td id=\"T_88635_row1_col0\" class=\"data row1 col0\" >1.03%</td>\n",
       "    </tr>\n",
       "    <tr>\n",
       "      <th id=\"T_88635_level0_row2\" class=\"row_heading level0 row2\" >1.560575</th>\n",
       "      <td id=\"T_88635_row2_col0\" class=\"data row2 col0\" >1.40%</td>\n",
       "    </tr>\n",
       "    <tr>\n",
       "      <th id=\"T_88635_level0_row3\" class=\"row_heading level0 row3\" >2.056126</th>\n",
       "      <td id=\"T_88635_row3_col0\" class=\"data row3 col0\" >0.97%</td>\n",
       "    </tr>\n",
       "    <tr>\n",
       "      <th id=\"T_88635_level0_row4\" class=\"row_heading level0 row4\" >2.559890</th>\n",
       "      <td id=\"T_88635_row4_col0\" class=\"data row4 col0\" >1.77%</td>\n",
       "    </tr>\n",
       "    <tr>\n",
       "      <th id=\"T_88635_level0_row5\" class=\"row_heading level0 row5\" >3.058179</th>\n",
       "      <td id=\"T_88635_row5_col0\" class=\"data row5 col0\" >2.36%</td>\n",
       "    </tr>\n",
       "    <tr>\n",
       "      <th id=\"T_88635_level0_row6\" class=\"row_heading level0 row6\" >3.561944</th>\n",
       "      <td id=\"T_88635_row6_col0\" class=\"data row6 col0\" >2.43%</td>\n",
       "    </tr>\n",
       "    <tr>\n",
       "      <th id=\"T_88635_level0_row7\" class=\"row_heading level0 row7\" >4.057495</th>\n",
       "      <td id=\"T_88635_row7_col0\" class=\"data row7 col0\" >2.83%</td>\n",
       "    </tr>\n",
       "    <tr>\n",
       "      <th id=\"T_88635_level0_row8\" class=\"row_heading level0 row8\" >4.561259</th>\n",
       "      <td id=\"T_88635_row8_col0\" class=\"data row8 col0\" >2.49%</td>\n",
       "    </tr>\n",
       "    <tr>\n",
       "      <th id=\"T_88635_level0_row9\" class=\"row_heading level0 row9\" >5.056810</th>\n",
       "      <td id=\"T_88635_row9_col0\" class=\"data row9 col0\" >1.95%</td>\n",
       "    </tr>\n",
       "    <tr>\n",
       "      <th id=\"T_88635_level0_row10\" class=\"row_heading level0 row10\" >5.560575</th>\n",
       "      <td id=\"T_88635_row10_col0\" class=\"data row10 col0\" >2.98%</td>\n",
       "    </tr>\n",
       "    <tr>\n",
       "      <th id=\"T_88635_level0_row11\" class=\"row_heading level0 row11\" >6.056126</th>\n",
       "      <td id=\"T_88635_row11_col0\" class=\"data row11 col0\" >3.34%</td>\n",
       "    </tr>\n",
       "    <tr>\n",
       "      <th id=\"T_88635_level0_row12\" class=\"row_heading level0 row12\" >6.559890</th>\n",
       "      <td id=\"T_88635_row12_col0\" class=\"data row12 col0\" >3.09%</td>\n",
       "    </tr>\n",
       "    <tr>\n",
       "      <th id=\"T_88635_level0_row13\" class=\"row_heading level0 row13\" >7.019849</th>\n",
       "      <td id=\"T_88635_row13_col0\" class=\"data row13 col0\" >0.91%</td>\n",
       "    </tr>\n",
       "    <tr>\n",
       "      <th id=\"T_88635_level0_row14\" class=\"row_heading level0 row14\" >7.518138</th>\n",
       "      <td id=\"T_88635_row14_col0\" class=\"data row14 col0\" >3.43%</td>\n",
       "    </tr>\n",
       "    <tr>\n",
       "      <th id=\"T_88635_level0_row15\" class=\"row_heading level0 row15\" >8.021903</th>\n",
       "      <td id=\"T_88635_row15_col0\" class=\"data row15 col0\" >3.59%</td>\n",
       "    </tr>\n",
       "    <tr>\n",
       "      <th id=\"T_88635_level0_row16\" class=\"row_heading level0 row16\" >8.517454</th>\n",
       "      <td id=\"T_88635_row16_col0\" class=\"data row16 col0\" >3.03%</td>\n",
       "    </tr>\n",
       "    <tr>\n",
       "      <th id=\"T_88635_level0_row17\" class=\"row_heading level0 row17\" >9.021218</th>\n",
       "      <td id=\"T_88635_row17_col0\" class=\"data row17 col0\" >3.44%</td>\n",
       "    </tr>\n",
       "    <tr>\n",
       "      <th id=\"T_88635_level0_row18\" class=\"row_heading level0 row18\" >9.516769</th>\n",
       "      <td id=\"T_88635_row18_col0\" class=\"data row18 col0\" >2.65%</td>\n",
       "    </tr>\n",
       "    <tr>\n",
       "      <th id=\"T_88635_level0_row19\" class=\"row_heading level0 row19\" >10.020534</th>\n",
       "      <td id=\"T_88635_row19_col0\" class=\"data row19 col0\" >-2.04%</td>\n",
       "    </tr>\n",
       "  </tbody>\n",
       "</table>\n"
      ],
      "text/plain": [
       "<pandas.io.formats.style.Styler at 0x1ca58ba45c0>"
      ]
     },
     "execution_count": 54,
     "metadata": {},
     "output_type": "execute_result"
    }
   ],
   "source": [
    "forward[['rate']].style.format('{:.2%}')"
   ]
  },
  {
   "cell_type": "code",
   "execution_count": 55,
   "metadata": {},
   "outputs": [
    {
     "data": {
      "image/png": "[encoded data removed]",
      "text/plain": [
       "<Figure size 1200x600 with 1 Axes>"
      ]
     },
     "metadata": {},
     "output_type": "display_data"
    },
    {
     "data": {
      "image/png": "[encoded data removed]",
      "text/plain": [
       "<Figure size 1200x600 with 1 Axes>"
      ]
     },
     "metadata": {},
     "output_type": "display_data"
    }
   ],
   "source": [
    "fig, ax = plt.subplots()\n",
    "spot['rate'].plot(ax=ax)\n",
    "forward['rate'].plot(ax=ax)\n",
    "plt.legend(['spot rate','forward rate'])\n",
    "plt.ylabel(f'compounding freq: {COMPOUNDING}')\n",
    "plt.show()"
   ]
  },
  {
   "cell_type": "markdown",
   "metadata": {},
   "source": [
    "***"
   ]
  },
  {
   "cell_type": "markdown",
   "metadata": {},
   "source": [
    "# 3. Trading the Yield Curve\n",
    "\n"
   ]
  },
  {
   "cell_type": "markdown",
   "metadata": {},
   "source": [
    "Use the file, `famabliss_strips_2023-12-29.xlsx` for the following problem.\n",
    "\n",
    "* The file provides prices for **strips** which are zero-coupon bonds. \n",
    "* Assume face value of 100.\n",
    "* Because these prices are on zero-coupon bonds, they can be interpreted as discount factors, $Z$, directly.\n",
    "\n",
    "Note that you will make use of only a few rows of the data set."
   ]
  },
  {
   "cell_type": "markdown",
   "metadata": {},
   "source": [
    "### 1. (10pts)\n",
    "\n",
    "Set up a trade as of `2010-01-29` to \n",
    "* go long 100 million (market value) of the 5-year.\n",
    "* short the 2-year strips in a quantity that is duration hedged.\n",
    "\n",
    "List the positions you hold long and short. \n",
    "* Assume you are financing the positions directly; no worries about haircuts. \n",
    "* Assume there are no market frictions, so you can short securities and immediately receive their market value. \n",
    "* (No need to worry about borrowing costs for the short.)"
   ]
  },
  {
   "cell_type": "markdown",
   "metadata": {},
   "source": [
    "### 2. (5pts)\n",
    "As of `2011-01-31`, assess the pnl on the long, short, and net trade."
   ]
  },
  {
   "cell_type": "markdown",
   "metadata": {},
   "source": [
    "### 3. (10pts)\n",
    "On `2011-01-31`, roll over the trade.\n",
    "* close out the short positions\n",
    "* enter new short positions in 2-year strips that are a duration hedge against your (continuing) long positions.\n",
    "\n",
    "List the details of your short and long positions in terms of market value and face value of each side of the trade."
   ]
  },
  {
   "cell_type": "markdown",
   "metadata": {},
   "source": [
    "### 4. (5pts)\n",
    "On `2012-01-31`, close out the trade.\n",
    "\n",
    "Report...\n",
    "* pnl for the long, short, and net of the trade."
   ]
  },
  {
   "cell_type": "markdown",
   "metadata": {},
   "source": [
    "### 5. (5pts)\n",
    "How did this trade do compared to a long-only trade in 5-year notes? Explain."
   ]
  },
  {
   "cell_type": "markdown",
   "metadata": {},
   "source": [
    "### 6. (5pts)\n",
    "\n",
    "Notwithstanding the duration hedge, why was the trade still sensitive to changing levels of the spot rate curve?\n",
    "\n",
    "Be specific in your answer, and consider which quantitative metric would support your answer."
   ]
  },
  {
   "cell_type": "markdown",
   "metadata": {},
   "source": [
    "### 7. (5pts)\n",
    "\n",
    "Does this trade rely on the Expectations Hypothesis being true or false? How about this type of trade in general?"
   ]
  },
  {
   "cell_type": "markdown",
   "metadata": {},
   "source": [
    "### 8. (5pts)\n",
    "\n",
    "As of `2012-01-31`, is the market environment favorable to this type of long-short trade?\n",
    "\n",
    "Be specific."
   ]
  },
  {
   "cell_type": "markdown",
   "metadata": {},
   "source": [
    "### 9. (5pts)\n",
    "\n",
    "As of `2010-01-29`, what is the continuously compounded forward rate from $T_1=2\\to T_2=4$?"
   ]
  },
  {
   "cell_type": "markdown",
   "metadata": {},
   "source": [
    "### 10. (5pts)\n",
    "\n",
    "As of `2012-01-31`, is the two-year continuously-compoounded spot rate, $r(0,2)$ higher or lower than the forward rate calculated above for `2010-01-29`?\n",
    "\n",
    "Is this surprising?"
   ]
  },
  {
   "cell_type": "markdown",
   "metadata": {},
   "source": [
    "***"
   ]
  },
  {
   "cell_type": "markdown",
   "metadata": {},
   "source": [
    "# <span style=\"color:red\">Solution 3</span>"
   ]
  },
  {
   "cell_type": "markdown",
   "metadata": {},
   "source": [
    "Load the data, and keep just a subset."
   ]
  },
  {
   "cell_type": "code",
   "execution_count": 56,
   "metadata": {},
   "outputs": [],
   "source": [
    "filepath = '../data/famabliss_strips_2023-12-29.xlsx'\n",
    "prices = pd.read_excel(filepath, sheet_name='prices')\n",
    "prices.set_index('date',inplace=True)\n",
    "prices.columns = prices.columns.astype(int)\n",
    "\n",
    "# organize subset\n",
    "px = prices['2010':'2012'].iloc[::12]\n",
    "# face value\n",
    "FACE = 100\n",
    "\n",
    "# log spot rates\n",
    "spots = -np.log(px/FACE)/px.columns"
   ]
  },
  {
   "cell_type": "markdown",
   "metadata": {},
   "source": [
    "## <span style=\"color:red\">3.1</span>"
   ]
  },
  {
   "cell_type": "markdown",
   "metadata": {},
   "source": [
    "Note that for zero-coupon bonds (strips), the duration equals the maturity."
   ]
  },
  {
   "cell_type": "code",
   "execution_count": 57,
   "metadata": {},
   "outputs": [],
   "source": [
    "LONGSIZE = 100e6\n",
    "LONGMAT = 5\n",
    "SHORTMAT = 2\n",
    "\n",
    "duration_ratio = LONGMAT/SHORTMAT\n",
    "SHORTSIZE = -LONGSIZE * duration_ratio"
   ]
  },
  {
   "cell_type": "markdown",
   "metadata": {},
   "source": [
    "The positions are as follows, where each contract corresponds to face value of 100."
   ]
  },
  {
   "cell_type": "code",
   "execution_count": 58,
   "metadata": {},
   "outputs": [
    {
     "data": {
      "text/html": [
       "<style type=\"text/css\">\n",
       "</style>\n",
       "<table id=\"T_c399d\">\n",
       "  <thead>\n",
       "    <tr>\n",
       "      <th class=\"blank level0\" >&nbsp;</th>\n",
       "      <th id=\"T_c399d_level0_col0\" class=\"col_heading level0 col0\" >1</th>\n",
       "      <th id=\"T_c399d_level0_col1\" class=\"col_heading level0 col1\" >2</th>\n",
       "      <th id=\"T_c399d_level0_col2\" class=\"col_heading level0 col2\" >3</th>\n",
       "      <th id=\"T_c399d_level0_col3\" class=\"col_heading level0 col3\" >4</th>\n",
       "      <th id=\"T_c399d_level0_col4\" class=\"col_heading level0 col4\" >5</th>\n",
       "    </tr>\n",
       "    <tr>\n",
       "      <th class=\"index_name level0\" >date</th>\n",
       "      <th class=\"blank col0\" >&nbsp;</th>\n",
       "      <th class=\"blank col1\" >&nbsp;</th>\n",
       "      <th class=\"blank col2\" >&nbsp;</th>\n",
       "      <th class=\"blank col3\" >&nbsp;</th>\n",
       "      <th class=\"blank col4\" >&nbsp;</th>\n",
       "    </tr>\n",
       "  </thead>\n",
       "  <tbody>\n",
       "    <tr>\n",
       "      <th id=\"T_c399d_level0_row0\" class=\"row_heading level0 row0\" >2010-01-29</th>\n",
       "      <td id=\"T_c399d_row0_col0\" class=\"data row0 col0\" >0.00</td>\n",
       "      <td id=\"T_c399d_row0_col1\" class=\"data row0 col1\" >-2,539,847.73</td>\n",
       "      <td id=\"T_c399d_row0_col2\" class=\"data row0 col2\" >0.00</td>\n",
       "      <td id=\"T_c399d_row0_col3\" class=\"data row0 col3\" >0.00</td>\n",
       "      <td id=\"T_c399d_row0_col4\" class=\"data row0 col4\" >1,124,880.49</td>\n",
       "    </tr>\n",
       "  </tbody>\n",
       "</table>\n"
      ],
      "text/plain": [
       "<pandas.io.formats.style.Styler at 0x1ca58ba5490>"
      ]
     },
     "execution_count": 58,
     "metadata": {},
     "output_type": "execute_result"
    }
   ],
   "source": [
    "positions = pd.DataFrame(index=px.index, columns=px.columns, dtype=float, data=0)\n",
    "positions[LONGMAT].iloc[0] = LONGSIZE/px[LONGMAT].iloc[0]\n",
    "positions[SHORTMAT].iloc[0] = SHORTSIZE/px[SHORTMAT].iloc[0]\n",
    "positions.iloc[[0],:].style.format('{:,.2f}').format_index('{:%Y-%m-%d}')\n",
    "\n",
    "positions.iloc[[0],:].style.format('{:,.2f}').format_index('{:%Y-%m-%d}')"
   ]
  },
  {
   "cell_type": "markdown",
   "metadata": {},
   "source": [
    "The market values of the positions are below."
   ]
  },
  {
   "cell_type": "code",
   "execution_count": 59,
   "metadata": {},
   "outputs": [
    {
     "data": {
      "text/html": [
       "<style type=\"text/css\">\n",
       "</style>\n",
       "<table id=\"T_9e627\">\n",
       "  <thead>\n",
       "    <tr>\n",
       "      <th class=\"blank level0\" >&nbsp;</th>\n",
       "      <th id=\"T_9e627_level0_col0\" class=\"col_heading level0 col0\" >cash</th>\n",
       "      <th id=\"T_9e627_level0_col1\" class=\"col_heading level0 col1\" >1</th>\n",
       "      <th id=\"T_9e627_level0_col2\" class=\"col_heading level0 col2\" >2</th>\n",
       "      <th id=\"T_9e627_level0_col3\" class=\"col_heading level0 col3\" >3</th>\n",
       "      <th id=\"T_9e627_level0_col4\" class=\"col_heading level0 col4\" >4</th>\n",
       "      <th id=\"T_9e627_level0_col5\" class=\"col_heading level0 col5\" >5</th>\n",
       "    </tr>\n",
       "    <tr>\n",
       "      <th class=\"index_name level0\" >date</th>\n",
       "      <th class=\"blank col0\" >&nbsp;</th>\n",
       "      <th class=\"blank col1\" >&nbsp;</th>\n",
       "      <th class=\"blank col2\" >&nbsp;</th>\n",
       "      <th class=\"blank col3\" >&nbsp;</th>\n",
       "      <th class=\"blank col4\" >&nbsp;</th>\n",
       "      <th class=\"blank col5\" >&nbsp;</th>\n",
       "    </tr>\n",
       "  </thead>\n",
       "  <tbody>\n",
       "    <tr>\n",
       "      <th id=\"T_9e627_level0_row0\" class=\"row_heading level0 row0\" >2010-01-29</th>\n",
       "      <td id=\"T_9e627_row0_col0\" class=\"data row0 col0\" >150,000,000.00</td>\n",
       "      <td id=\"T_9e627_row0_col1\" class=\"data row0 col1\" >0.00</td>\n",
       "      <td id=\"T_9e627_row0_col2\" class=\"data row0 col2\" >-250,000,000.00</td>\n",
       "      <td id=\"T_9e627_row0_col3\" class=\"data row0 col3\" >0.00</td>\n",
       "      <td id=\"T_9e627_row0_col4\" class=\"data row0 col4\" >0.00</td>\n",
       "      <td id=\"T_9e627_row0_col5\" class=\"data row0 col5\" >100,000,000.00</td>\n",
       "    </tr>\n",
       "  </tbody>\n",
       "</table>\n"
      ],
      "text/plain": [
       "<pandas.io.formats.style.Styler at 0x1ca58bcc590>"
      ]
     },
     "execution_count": 59,
     "metadata": {},
     "output_type": "execute_result"
    }
   ],
   "source": [
    "mktvals = positions.copy()\n",
    "mktvals *= px\n",
    "mktvals.insert(0,'cash',0)\n",
    "mktvals.loc['2010','cash'] = -SHORTSIZE - LONGSIZE\n",
    "mktvals.iloc[[0],:].style.format('{:,.2f}').format_index('{:%Y-%m-%d}')"
   ]
  },
  {
   "cell_type": "markdown",
   "metadata": {},
   "source": [
    "## <span style=\"color:red\">3.2</span>"
   ]
  },
  {
   "cell_type": "code",
   "execution_count": 60,
   "metadata": {},
   "outputs": [],
   "source": [
    "px_new = positions.iloc[[0],1:].values * px.iloc[[1],0:-1].values\n",
    "px_old = mktvals.iloc[0,2:].values\n",
    "\n",
    "mktvals.iloc[[1],1:-1] = px_new\n",
    "mktvals.iloc[[1],0] = mktvals.iloc[[0],0] "
   ]
  },
  {
   "cell_type": "markdown",
   "metadata": {},
   "source": [
    "The net pnl on the trade..."
   ]
  },
  {
   "cell_type": "code",
   "execution_count": 61,
   "metadata": {},
   "outputs": [
    {
     "data": {
      "text/html": [
       "<style type=\"text/css\">\n",
       "</style>\n",
       "<table id=\"T_77542\">\n",
       "  <thead>\n",
       "    <tr>\n",
       "      <th class=\"blank level0\" >&nbsp;</th>\n",
       "      <th id=\"T_77542_level0_col0\" class=\"col_heading level0 col0\" >pnl for 2011-01-31</th>\n",
       "    </tr>\n",
       "  </thead>\n",
       "  <tbody>\n",
       "    <tr>\n",
       "      <th id=\"T_77542_level0_row0\" class=\"row_heading level0 row0\" >shorts</th>\n",
       "      <td id=\"T_77542_row0_col0\" class=\"data row0 col0\" >$-3,195,323.56</td>\n",
       "    </tr>\n",
       "    <tr>\n",
       "      <th id=\"T_77542_level0_row1\" class=\"row_heading level0 row1\" >longs</th>\n",
       "      <td id=\"T_77542_row1_col0\" class=\"data row1 col0\" >$6,179,199.31</td>\n",
       "    </tr>\n",
       "    <tr>\n",
       "      <th id=\"T_77542_level0_row2\" class=\"row_heading level0 row2\" >net</th>\n",
       "      <td id=\"T_77542_row2_col0\" class=\"data row2 col0\" >$2,983,875.75</td>\n",
       "    </tr>\n",
       "  </tbody>\n",
       "</table>\n"
      ],
      "text/plain": [
       "<pandas.io.formats.style.Styler at 0x1ca58bc5100>"
      ]
     },
     "execution_count": 61,
     "metadata": {},
     "output_type": "execute_result"
    }
   ],
   "source": [
    "tab = pd.DataFrame([(px_new - px_old)[0,[0,3]]],columns=['shorts','longs'],index=['pnl for 2011-01-31']).T\n",
    "tab.loc['net'] = tab.sum()\n",
    "tab.style.format('${:,.2f}')"
   ]
  },
  {
   "cell_type": "markdown",
   "metadata": {},
   "source": [
    "## <span style=\"color:red\">3.3</span>"
   ]
  },
  {
   "cell_type": "markdown",
   "metadata": {},
   "source": [
    "### Market values\n",
    "\n",
    "See below for the market values of the positions.\n",
    "\n",
    "**No need** to show what is happening to cash over this time, given that the problem says to ignore financing.\n",
    "\n",
    "#### Technical point\n",
    "One might model the excess cash as being invested in (risk-free) one-year bonds each period. \n",
    "\n",
    "This was not required in the problem."
   ]
  },
  {
   "cell_type": "code",
   "execution_count": 62,
   "metadata": {},
   "outputs": [
    {
     "data": {
      "text/html": [
       "<style type=\"text/css\">\n",
       "</style>\n",
       "<table id=\"T_b5b41\">\n",
       "  <thead>\n",
       "    <tr>\n",
       "      <th class=\"blank level0\" >&nbsp;</th>\n",
       "      <th id=\"T_b5b41_level0_col0\" class=\"col_heading level0 col0\" >cash</th>\n",
       "      <th id=\"T_b5b41_level0_col1\" class=\"col_heading level0 col1\" >1</th>\n",
       "      <th id=\"T_b5b41_level0_col2\" class=\"col_heading level0 col2\" >2</th>\n",
       "      <th id=\"T_b5b41_level0_col3\" class=\"col_heading level0 col3\" >3</th>\n",
       "      <th id=\"T_b5b41_level0_col4\" class=\"col_heading level0 col4\" >4</th>\n",
       "      <th id=\"T_b5b41_level0_col5\" class=\"col_heading level0 col5\" >5</th>\n",
       "    </tr>\n",
       "    <tr>\n",
       "      <th class=\"index_name level0\" >date</th>\n",
       "      <th class=\"blank col0\" >&nbsp;</th>\n",
       "      <th class=\"blank col1\" >&nbsp;</th>\n",
       "      <th class=\"blank col2\" >&nbsp;</th>\n",
       "      <th class=\"blank col3\" >&nbsp;</th>\n",
       "      <th class=\"blank col4\" >&nbsp;</th>\n",
       "      <th class=\"blank col5\" >&nbsp;</th>\n",
       "    </tr>\n",
       "  </thead>\n",
       "  <tbody>\n",
       "    <tr>\n",
       "      <th id=\"T_b5b41_level0_row0\" class=\"row_heading level0 row0\" >2010-01-29</th>\n",
       "      <td id=\"T_b5b41_row0_col0\" class=\"data row0 col0\" >$150,000,000.00</td>\n",
       "      <td id=\"T_b5b41_row0_col1\" class=\"data row0 col1\" >$0.00</td>\n",
       "      <td id=\"T_b5b41_row0_col2\" class=\"data row0 col2\" >$-250,000,000.00</td>\n",
       "      <td id=\"T_b5b41_row0_col3\" class=\"data row0 col3\" >$0.00</td>\n",
       "      <td id=\"T_b5b41_row0_col4\" class=\"data row0 col4\" >$0.00</td>\n",
       "      <td id=\"T_b5b41_row0_col5\" class=\"data row0 col5\" >$100,000,000.00</td>\n",
       "    </tr>\n",
       "    <tr>\n",
       "      <th id=\"T_b5b41_level0_row1\" class=\"row_heading level0 row1\" >2011-01-31</th>\n",
       "      <td id=\"T_b5b41_row1_col0\" class=\"data row1 col0\" >$109,163,075.06</td>\n",
       "      <td id=\"T_b5b41_row1_col1\" class=\"data row1 col1\" >$0.00</td>\n",
       "      <td id=\"T_b5b41_row1_col2\" class=\"data row1 col2\" >$-212,358,398.62</td>\n",
       "      <td id=\"T_b5b41_row1_col3\" class=\"data row1 col3\" >$0.00</td>\n",
       "      <td id=\"T_b5b41_row1_col4\" class=\"data row1 col4\" >$106,179,199.31</td>\n",
       "      <td id=\"T_b5b41_row1_col5\" class=\"data row1 col5\" >$0.00</td>\n",
       "    </tr>\n",
       "  </tbody>\n",
       "</table>\n"
      ],
      "text/plain": [
       "<pandas.io.formats.style.Styler at 0x1ca58b884d0>"
      ]
     },
     "execution_count": 62,
     "metadata": {},
     "output_type": "execute_result"
    }
   ],
   "source": [
    "longmat = 4\n",
    "shortmat = 2\n",
    "shortvals = - mktvals[4].iloc[1] * longmat/shortmat\n",
    "mktvals.iloc[1,2] = shortvals\n",
    "mktvals.iloc[1,1] -= shortvals\n",
    "mktvals.iloc[1,0] += mktvals.iloc[1,1]\n",
    "mktvals.iloc[1,1] = 0\n",
    "\n",
    "mktvals.iloc[0:-1,:].style.format('${:,.2f}').format_index('{:%Y-%m-%d}')"
   ]
  },
  {
   "cell_type": "markdown",
   "metadata": {},
   "source": [
    "### Face value (contracts)\n",
    "\n",
    "Below, see the number of contracts (each representing 100 face value)."
   ]
  },
  {
   "cell_type": "code",
   "execution_count": 63,
   "metadata": {},
   "outputs": [
    {
     "data": {
      "text/html": [
       "<style type=\"text/css\">\n",
       "</style>\n",
       "<table id=\"T_75a79\">\n",
       "  <thead>\n",
       "    <tr>\n",
       "      <th class=\"blank level0\" >&nbsp;</th>\n",
       "      <th id=\"T_75a79_level0_col0\" class=\"col_heading level0 col0\" >1</th>\n",
       "      <th id=\"T_75a79_level0_col1\" class=\"col_heading level0 col1\" >2</th>\n",
       "      <th id=\"T_75a79_level0_col2\" class=\"col_heading level0 col2\" >3</th>\n",
       "      <th id=\"T_75a79_level0_col3\" class=\"col_heading level0 col3\" >4</th>\n",
       "      <th id=\"T_75a79_level0_col4\" class=\"col_heading level0 col4\" >5</th>\n",
       "    </tr>\n",
       "    <tr>\n",
       "      <th class=\"index_name level0\" >date</th>\n",
       "      <th class=\"blank col0\" >&nbsp;</th>\n",
       "      <th class=\"blank col1\" >&nbsp;</th>\n",
       "      <th class=\"blank col2\" >&nbsp;</th>\n",
       "      <th class=\"blank col3\" >&nbsp;</th>\n",
       "      <th class=\"blank col4\" >&nbsp;</th>\n",
       "    </tr>\n",
       "  </thead>\n",
       "  <tbody>\n",
       "    <tr>\n",
       "      <th id=\"T_75a79_level0_row0\" class=\"row_heading level0 row0\" >2010-01-29</th>\n",
       "      <td id=\"T_75a79_row0_col0\" class=\"data row0 col0\" >0.00</td>\n",
       "      <td id=\"T_75a79_row0_col1\" class=\"data row0 col1\" >-2,539,847.73</td>\n",
       "      <td id=\"T_75a79_row0_col2\" class=\"data row0 col2\" >0.00</td>\n",
       "      <td id=\"T_75a79_row0_col3\" class=\"data row0 col3\" >0.00</td>\n",
       "      <td id=\"T_75a79_row0_col4\" class=\"data row0 col4\" >1,124,880.49</td>\n",
       "    </tr>\n",
       "    <tr>\n",
       "      <th id=\"T_75a79_level0_row1\" class=\"row_heading level0 row1\" >2011-01-31</th>\n",
       "      <td id=\"T_75a79_row1_col0\" class=\"data row1 col0\" >0.00</td>\n",
       "      <td id=\"T_75a79_row1_col1\" class=\"data row1 col1\" >-2,146,606.59</td>\n",
       "      <td id=\"T_75a79_row1_col2\" class=\"data row1 col2\" >0.00</td>\n",
       "      <td id=\"T_75a79_row1_col3\" class=\"data row1 col3\" >1,124,880.49</td>\n",
       "      <td id=\"T_75a79_row1_col4\" class=\"data row1 col4\" >0.00</td>\n",
       "    </tr>\n",
       "  </tbody>\n",
       "</table>\n"
      ],
      "text/plain": [
       "<pandas.io.formats.style.Styler at 0x1ca58b218e0>"
      ]
     },
     "execution_count": 63,
     "metadata": {},
     "output_type": "execute_result"
    }
   ],
   "source": [
    "positions.iloc[1,:] = mktvals.iloc[1,1:] / px.iloc[1,1:]\n",
    "positions.iloc[1,0] = 0\n",
    "positions.iloc[0:-1,:].style.format('{:,.2f}').format_index('{:%Y-%m-%d}')"
   ]
  },
  {
   "cell_type": "markdown",
   "metadata": {},
   "source": [
    "## <span style=\"color:red\">3.4</span>"
   ]
  },
  {
   "cell_type": "code",
   "execution_count": 64,
   "metadata": {},
   "outputs": [],
   "source": [
    "px_new = positions.iloc[[1],1:].values * px.iloc[[2],0:-1].values\n",
    "px_old = mktvals.iloc[1,2:].values\n",
    "\n",
    "mktvals.iloc[[2],1:-1] = px_new\n",
    "mktvals.iloc[[2],0] = mktvals.iloc[[1],0] "
   ]
  },
  {
   "cell_type": "markdown",
   "metadata": {},
   "source": [
    "See below for the pnl on the longs, shorts, and net position."
   ]
  },
  {
   "cell_type": "code",
   "execution_count": 65,
   "metadata": {},
   "outputs": [
    {
     "data": {
      "text/html": [
       "<style type=\"text/css\">\n",
       "</style>\n",
       "<table id=\"T_339b2\">\n",
       "  <thead>\n",
       "    <tr>\n",
       "      <th class=\"blank level0\" >&nbsp;</th>\n",
       "      <th id=\"T_339b2_level0_col0\" class=\"col_heading level0 col0\" >pnl for 2011-01-31</th>\n",
       "      <th id=\"T_339b2_level0_col1\" class=\"col_heading level0 col1\" >pnl for 2012-01-31</th>\n",
       "      <th id=\"T_339b2_level0_col2\" class=\"col_heading level0 col2\" >cumulative pnl</th>\n",
       "    </tr>\n",
       "  </thead>\n",
       "  <tbody>\n",
       "    <tr>\n",
       "      <th id=\"T_339b2_level0_row0\" class=\"row_heading level0 row0\" >shorts</th>\n",
       "      <td id=\"T_339b2_row0_col0\" class=\"data row0 col0\" >$-3,195,323.56</td>\n",
       "      <td id=\"T_339b2_row0_col1\" class=\"data row0 col1\" >$-1,974,658.08</td>\n",
       "      <td id=\"T_339b2_row0_col2\" class=\"data row0 col2\" >$-5,169,981.64</td>\n",
       "    </tr>\n",
       "    <tr>\n",
       "      <th id=\"T_339b2_level0_row1\" class=\"row_heading level0 row1\" >longs</th>\n",
       "      <td id=\"T_339b2_row1_col0\" class=\"data row1 col0\" >$6,179,199.31</td>\n",
       "      <td id=\"T_339b2_row1_col1\" class=\"data row1 col1\" >$5,284,231.55</td>\n",
       "      <td id=\"T_339b2_row1_col2\" class=\"data row1 col2\" >$11,463,430.86</td>\n",
       "    </tr>\n",
       "    <tr>\n",
       "      <th id=\"T_339b2_level0_row2\" class=\"row_heading level0 row2\" >net</th>\n",
       "      <td id=\"T_339b2_row2_col0\" class=\"data row2 col0\" >$2,983,875.75</td>\n",
       "      <td id=\"T_339b2_row2_col1\" class=\"data row2 col1\" >$3,309,573.47</td>\n",
       "      <td id=\"T_339b2_row2_col2\" class=\"data row2 col2\" >$6,293,449.22</td>\n",
       "    </tr>\n",
       "  </tbody>\n",
       "</table>\n"
      ],
      "text/plain": [
       "<pandas.io.formats.style.Styler at 0x1ca59a6ab40>"
      ]
     },
     "execution_count": 65,
     "metadata": {},
     "output_type": "execute_result"
    }
   ],
   "source": [
    "tab['pnl for 2012-01-31'] = np.nan\n",
    "tab['pnl for 2012-01-31'].iloc[:-1] = (px_new - px_old)[0,[0,2]]\n",
    "tab.loc['net','pnl for 2012-01-31'] = tab['pnl for 2012-01-31'].iloc[:-1].sum()\n",
    "tab['cumulative pnl'] = tab.sum(axis=1)\n",
    "tab.style.format('${:,.2f}')"
   ]
  },
  {
   "cell_type": "markdown",
   "metadata": {},
   "source": [
    "**Not required**\n",
    "\n",
    "The chart below shows how the market value is changing over time in the positions.\n",
    "\n",
    "Note that the sum of each row gives the cumulative pnl, and it matches the pnl table above."
   ]
  },
  {
   "cell_type": "code",
   "execution_count": 66,
   "metadata": {},
   "outputs": [
    {
     "data": {
      "text/html": [
       "<style type=\"text/css\">\n",
       "</style>\n",
       "<table id=\"T_eaad0\">\n",
       "  <thead>\n",
       "    <tr>\n",
       "      <th class=\"blank level0\" >&nbsp;</th>\n",
       "      <th id=\"T_eaad0_level0_col0\" class=\"col_heading level0 col0\" >cumulative pnl</th>\n",
       "      <th id=\"T_eaad0_level0_col1\" class=\"col_heading level0 col1\" >cash</th>\n",
       "      <th id=\"T_eaad0_level0_col2\" class=\"col_heading level0 col2\" >1</th>\n",
       "      <th id=\"T_eaad0_level0_col3\" class=\"col_heading level0 col3\" >2</th>\n",
       "      <th id=\"T_eaad0_level0_col4\" class=\"col_heading level0 col4\" >3</th>\n",
       "      <th id=\"T_eaad0_level0_col5\" class=\"col_heading level0 col5\" >4</th>\n",
       "      <th id=\"T_eaad0_level0_col6\" class=\"col_heading level0 col6\" >5</th>\n",
       "    </tr>\n",
       "    <tr>\n",
       "      <th class=\"index_name level0\" >date</th>\n",
       "      <th class=\"blank col0\" >&nbsp;</th>\n",
       "      <th class=\"blank col1\" >&nbsp;</th>\n",
       "      <th class=\"blank col2\" >&nbsp;</th>\n",
       "      <th class=\"blank col3\" >&nbsp;</th>\n",
       "      <th class=\"blank col4\" >&nbsp;</th>\n",
       "      <th class=\"blank col5\" >&nbsp;</th>\n",
       "      <th class=\"blank col6\" >&nbsp;</th>\n",
       "    </tr>\n",
       "  </thead>\n",
       "  <tbody>\n",
       "    <tr>\n",
       "      <th id=\"T_eaad0_level0_row0\" class=\"row_heading level0 row0\" >2010-01-29</th>\n",
       "      <td id=\"T_eaad0_row0_col0\" class=\"data row0 col0\" >$0.00</td>\n",
       "      <td id=\"T_eaad0_row0_col1\" class=\"data row0 col1\" >$150,000,000.00</td>\n",
       "      <td id=\"T_eaad0_row0_col2\" class=\"data row0 col2\" >$0.00</td>\n",
       "      <td id=\"T_eaad0_row0_col3\" class=\"data row0 col3\" >$-250,000,000.00</td>\n",
       "      <td id=\"T_eaad0_row0_col4\" class=\"data row0 col4\" >$0.00</td>\n",
       "      <td id=\"T_eaad0_row0_col5\" class=\"data row0 col5\" >$0.00</td>\n",
       "      <td id=\"T_eaad0_row0_col6\" class=\"data row0 col6\" >$100,000,000.00</td>\n",
       "    </tr>\n",
       "    <tr>\n",
       "      <th id=\"T_eaad0_level0_row1\" class=\"row_heading level0 row1\" >2011-01-31</th>\n",
       "      <td id=\"T_eaad0_row1_col0\" class=\"data row1 col0\" >$2,983,875.75</td>\n",
       "      <td id=\"T_eaad0_row1_col1\" class=\"data row1 col1\" >$109,163,075.06</td>\n",
       "      <td id=\"T_eaad0_row1_col2\" class=\"data row1 col2\" >$0.00</td>\n",
       "      <td id=\"T_eaad0_row1_col3\" class=\"data row1 col3\" >$-212,358,398.62</td>\n",
       "      <td id=\"T_eaad0_row1_col4\" class=\"data row1 col4\" >$0.00</td>\n",
       "      <td id=\"T_eaad0_row1_col5\" class=\"data row1 col5\" >$106,179,199.31</td>\n",
       "      <td id=\"T_eaad0_row1_col6\" class=\"data row1 col6\" >$0.00</td>\n",
       "    </tr>\n",
       "    <tr>\n",
       "      <th id=\"T_eaad0_level0_row2\" class=\"row_heading level0 row2\" >2012-01-31</th>\n",
       "      <td id=\"T_eaad0_row2_col0\" class=\"data row2 col0\" >$6,293,449.22</td>\n",
       "      <td id=\"T_eaad0_row2_col1\" class=\"data row2 col1\" >$109,163,075.06</td>\n",
       "      <td id=\"T_eaad0_row2_col2\" class=\"data row2 col2\" >$-214,333,056.70</td>\n",
       "      <td id=\"T_eaad0_row2_col3\" class=\"data row2 col3\" >$0.00</td>\n",
       "      <td id=\"T_eaad0_row2_col4\" class=\"data row2 col4\" >$111,463,430.86</td>\n",
       "      <td id=\"T_eaad0_row2_col5\" class=\"data row2 col5\" >$0.00</td>\n",
       "      <td id=\"T_eaad0_row2_col6\" class=\"data row2 col6\" >$0.00</td>\n",
       "    </tr>\n",
       "  </tbody>\n",
       "</table>\n"
      ],
      "text/plain": [
       "<pandas.io.formats.style.Styler at 0x1ca59a3b560>"
      ]
     },
     "execution_count": 66,
     "metadata": {},
     "output_type": "execute_result"
    }
   ],
   "source": [
    "mktvals.insert(0,'cumulative pnl',0)\n",
    "mktvals['cumulative pnl'] = mktvals.sum(axis=1)\n",
    "mktvals.style.format('${:,.2f}').format_index('{:%Y-%m-%d}')"
   ]
  },
  {
   "cell_type": "markdown",
   "metadata": {},
   "source": [
    "## <span style=\"color:red\">3.5</span>"
   ]
  },
  {
   "cell_type": "markdown",
   "metadata": {},
   "source": [
    "The long-only trade in the 5-year bond would deliver the following pnl."
   ]
  },
  {
   "cell_type": "code",
   "execution_count": 67,
   "metadata": {},
   "outputs": [
    {
     "data": {
      "text/html": [
       "<style type=\"text/css\">\n",
       "</style>\n",
       "<table id=\"T_a4a18\">\n",
       "  <thead>\n",
       "    <tr>\n",
       "      <th class=\"blank level0\" >&nbsp;</th>\n",
       "      <th id=\"T_a4a18_level0_col0\" class=\"col_heading level0 col0\" >cumulative pnl (2010-2012)</th>\n",
       "    </tr>\n",
       "  </thead>\n",
       "  <tbody>\n",
       "    <tr>\n",
       "      <th id=\"T_a4a18_level0_row0\" class=\"row_heading level0 row0\" >long-only (unhedged)</th>\n",
       "      <td id=\"T_a4a18_row0_col0\" class=\"data row0 col0\" >$11,463,430.86</td>\n",
       "    </tr>\n",
       "    <tr>\n",
       "      <th id=\"T_a4a18_level0_row1\" class=\"row_heading level0 row1\" >long-short (duration hedged)</th>\n",
       "      <td id=\"T_a4a18_row1_col0\" class=\"data row1 col0\" >$6,293,449.22</td>\n",
       "    </tr>\n",
       "  </tbody>\n",
       "</table>\n"
      ],
      "text/plain": [
       "<pandas.io.formats.style.Styler at 0x1ca58affe60>"
      ]
     },
     "execution_count": 67,
     "metadata": {},
     "output_type": "execute_result"
    }
   ],
   "source": [
    "pnl_buyhold = positions.iloc[0,4] * (px.iloc[2,2] - px.iloc[0,4])\n",
    "tab_cumpnl = pd.DataFrame([pnl_buyhold],index=['long-only (unhedged)'],columns=['cumulative pnl (2010-2012)'])\n",
    "tab_cumpnl.loc['long-short (duration hedged)'] = tab.loc['net','cumulative pnl']\n",
    "tab_cumpnl.style.format('${:,.2f}')"
   ]
  },
  {
   "cell_type": "markdown",
   "metadata": {},
   "source": [
    "The long-only trade has nearly 2x the pnl. Throughout the two years, rates are going down. Thus, the long-only trade benefits from changes in levels of interest rates, whereas the duration-hedged long-short trade loses on the shorts, benefitting less from overall rate changes."
   ]
  },
  {
   "cell_type": "markdown",
   "metadata": {},
   "source": [
    "## <span style=\"color:red\">3.6</span>"
   ]
  },
  {
   "cell_type": "markdown",
   "metadata": {},
   "source": [
    "The duration-hedged trade is still sensitive to interest rate changes for two reasons:\n",
    "* The positions have convexity. The long-short trade still ahs positive convexity.\n",
    "* The changes to interest rates are not parallel shifts of the spot curve, which means duration is not perfectly hedgeing even the linear effects."
   ]
  },
  {
   "cell_type": "markdown",
   "metadata": {},
   "source": [
    "## <span style=\"color:red\">3.7</span>"
   ]
  },
  {
   "cell_type": "markdown",
   "metadata": {},
   "source": [
    "No, this trade does not depend on the EH. The EH says what will happen on **average** not in a given trade.\n",
    "\n",
    "In general, these types of trades rely on the EH being false, as they say that **on average** there is positive pnl in holding the higher yield security, (in this case, the 5-year bond.)"
   ]
  },
  {
   "cell_type": "markdown",
   "metadata": {},
   "source": [
    "## <span style=\"color:red\">3.8</span>"
   ]
  },
  {
   "cell_type": "markdown",
   "metadata": {},
   "source": [
    "Based on our study of the EH, this environment is not favorable to this trade as of 2012.\n",
    "\n",
    "The term structure is flat, as seen by the spot rates. We saw evidence that this type of long-short trade tends to do better when the term structure has a strong upward slope."
   ]
  },
  {
   "cell_type": "code",
   "execution_count": 68,
   "metadata": {},
   "outputs": [
    {
     "data": {
      "text/html": [
       "<style type=\"text/css\">\n",
       "</style>\n",
       "<table id=\"T_15d4c\">\n",
       "  <thead>\n",
       "    <tr>\n",
       "      <th class=\"blank level0\" >&nbsp;</th>\n",
       "      <th id=\"T_15d4c_level0_col0\" class=\"col_heading level0 col0\" >1</th>\n",
       "      <th id=\"T_15d4c_level0_col1\" class=\"col_heading level0 col1\" >2</th>\n",
       "      <th id=\"T_15d4c_level0_col2\" class=\"col_heading level0 col2\" >3</th>\n",
       "      <th id=\"T_15d4c_level0_col3\" class=\"col_heading level0 col3\" >4</th>\n",
       "      <th id=\"T_15d4c_level0_col4\" class=\"col_heading level0 col4\" >5</th>\n",
       "    </tr>\n",
       "    <tr>\n",
       "      <th class=\"index_name level0\" >date</th>\n",
       "      <th class=\"blank col0\" >&nbsp;</th>\n",
       "      <th class=\"blank col1\" >&nbsp;</th>\n",
       "      <th class=\"blank col2\" >&nbsp;</th>\n",
       "      <th class=\"blank col3\" >&nbsp;</th>\n",
       "      <th class=\"blank col4\" >&nbsp;</th>\n",
       "    </tr>\n",
       "  </thead>\n",
       "  <tbody>\n",
       "    <tr>\n",
       "      <th id=\"T_15d4c_level0_row0\" class=\"row_heading level0 row0\" >2012-01-31</th>\n",
       "      <td id=\"T_15d4c_row0_col0\" class=\"data row0 col0\" >0.15%</td>\n",
       "      <td id=\"T_15d4c_row0_col1\" class=\"data row0 col1\" >0.22%</td>\n",
       "      <td id=\"T_15d4c_row0_col2\" class=\"data row0 col2\" >0.31%</td>\n",
       "      <td id=\"T_15d4c_row0_col3\" class=\"data row0 col3\" >0.49%</td>\n",
       "      <td id=\"T_15d4c_row0_col4\" class=\"data row0 col4\" >0.73%</td>\n",
       "    </tr>\n",
       "  </tbody>\n",
       "</table>\n"
      ],
      "text/plain": [
       "<pandas.io.formats.style.Styler at 0x1ca5aaea540>"
      ]
     },
     "execution_count": 68,
     "metadata": {},
     "output_type": "execute_result"
    }
   ],
   "source": [
    "spots.loc['2012'].style.format('{:.2%}').format_index('{:%Y-%m-%d}')"
   ]
  },
  {
   "cell_type": "markdown",
   "metadata": {},
   "source": [
    "## <span style=\"color:red\">3.9</span>"
   ]
  },
  {
   "cell_type": "markdown",
   "metadata": {},
   "source": [
    "The two-year forward rates are below, where the column label denotes $T_2$. That is, column `4` denotes the forward rate as of that date between $T_1=2\\rightarrow T_2=4$.\n",
    "\n",
    "Note that the values in column `2` are equivalent to two-year spot rates, as they are forwards from $T_1=0$ to $T_2=2$.\n",
    "\n",
    "#### Note\n",
    "Not required to show this whole table, but rather to just report the single value below."
   ]
  },
  {
   "cell_type": "code",
   "execution_count": 69,
   "metadata": {},
   "outputs": [
    {
     "data": {
      "text/html": [
       "<style type=\"text/css\">\n",
       "</style>\n",
       "<table id=\"T_ef425\">\n",
       "  <thead>\n",
       "    <tr>\n",
       "      <th class=\"blank level0\" >&nbsp;</th>\n",
       "      <th id=\"T_ef425_level0_col0\" class=\"col_heading level0 col0\" >2</th>\n",
       "      <th id=\"T_ef425_level0_col1\" class=\"col_heading level0 col1\" >3</th>\n",
       "      <th id=\"T_ef425_level0_col2\" class=\"col_heading level0 col2\" >4</th>\n",
       "      <th id=\"T_ef425_level0_col3\" class=\"col_heading level0 col3\" >5</th>\n",
       "    </tr>\n",
       "    <tr>\n",
       "      <th class=\"index_name level0\" >date</th>\n",
       "      <th class=\"blank col0\" >&nbsp;</th>\n",
       "      <th class=\"blank col1\" >&nbsp;</th>\n",
       "      <th class=\"blank col2\" >&nbsp;</th>\n",
       "      <th class=\"blank col3\" >&nbsp;</th>\n",
       "    </tr>\n",
       "  </thead>\n",
       "  <tbody>\n",
       "    <tr>\n",
       "      <th id=\"T_ef425_level0_row0\" class=\"row_heading level0 row0\" >2010-01-29</th>\n",
       "      <td id=\"T_ef425_row0_col0\" class=\"data row0 col0\" >0.79%</td>\n",
       "      <td id=\"T_ef425_row0_col1\" class=\"data row0 col1\" >3.69%</td>\n",
       "      <td id=\"T_ef425_row0_col2\" class=\"data row0 col2\" >5.79%</td>\n",
       "      <td id=\"T_ef425_row0_col3\" class=\"data row0 col3\" >7.77%</td>\n",
       "    </tr>\n",
       "    <tr>\n",
       "      <th id=\"T_ef425_level0_row1\" class=\"row_heading level0 row1\" >2011-01-31</th>\n",
       "      <td id=\"T_ef425_row1_col0\" class=\"data row1 col0\" >0.54%</td>\n",
       "      <td id=\"T_ef425_row1_col1\" class=\"data row1 col1\" >2.60%</td>\n",
       "      <td id=\"T_ef425_row1_col2\" class=\"data row1 col2\" >4.69%</td>\n",
       "      <td id=\"T_ef425_row1_col3\" class=\"data row1 col3\" >6.94%</td>\n",
       "    </tr>\n",
       "    <tr>\n",
       "      <th id=\"T_ef425_level0_row2\" class=\"row_heading level0 row2\" >2012-01-31</th>\n",
       "      <td id=\"T_ef425_row2_col0\" class=\"data row2 col0\" >0.22%</td>\n",
       "      <td id=\"T_ef425_row2_col1\" class=\"data row2 col1\" >0.76%</td>\n",
       "      <td id=\"T_ef425_row2_col2\" class=\"data row2 col2\" >1.51%</td>\n",
       "      <td id=\"T_ef425_row2_col3\" class=\"data row2 col3\" >2.71%</td>\n",
       "    </tr>\n",
       "  </tbody>\n",
       "</table>\n"
      ],
      "text/plain": [
       "<pandas.io.formats.style.Styler at 0x1ca59a3b9b0>"
      ]
     },
     "execution_count": 69,
     "metadata": {},
     "output_type": "execute_result"
    }
   ],
   "source": [
    "F = px[[3,4,5]] / px[[1,2,3]].values\n",
    "f = -np.log(F)\n",
    "f.insert(0,2,spots[2])\n",
    "f.style.format('{:.2%}').format_index('{:%Y-%m-%d}')"
   ]
  },
  {
   "cell_type": "code",
   "execution_count": 70,
   "metadata": {},
   "outputs": [
    {
     "data": {
      "text/plain": [
       "'The forward rate as of 2010 for 2 to 4 is 5.79%.'"
      ]
     },
     "metadata": {},
     "output_type": "display_data"
    }
   ],
   "source": [
    "frate = f.loc['2010',4].values[0]\n",
    "display(f'The forward rate as of 2010 for 2 to 4 is {frate:.2%}.')"
   ]
  },
  {
   "cell_type": "markdown",
   "metadata": {},
   "source": [
    "## <span style=\"color:red\">3.10</span>"
   ]
  },
  {
   "cell_type": "markdown",
   "metadata": {},
   "source": [
    "From the table above, we see the 2-year **forward** rate from 2 to 4 in 2010 is substantially higher than the 2-year **spot** rate in 2012.\n",
    "\n",
    "This is not a surprise. Had the rate in 2012 been as high as the 2010 spot indicated, the trades above would not have been as profitable. The trades benefited from rates being lower in 2012 than the forwards would have predicted in 2010."
   ]
  },
  {
   "cell_type": "markdown",
   "metadata": {},
   "source": [
    "***"
   ]
  },
  {
   "cell_type": "markdown",
   "metadata": {},
   "source": [
    "# 4. The Swap-Spread"
   ]
  },
  {
   "cell_type": "markdown",
   "metadata": {},
   "source": [
    "Consider the market data below. \n",
    "* It refers to **20-year** T-bonds and swaps.\n",
    "* Assume the T-bond has exactly 20-years to maturity, with a coupon that exactly matches the YTM below."
   ]
  },
  {
   "cell_type": "code",
   "execution_count": 71,
   "metadata": {},
   "outputs": [
    {
     "data": {
      "text/html": [
       "<style type=\"text/css\">\n",
       "</style>\n",
       "<table id=\"T_b05cb\">\n",
       "  <thead>\n",
       "    <tr>\n",
       "      <th class=\"blank level0\" >&nbsp;</th>\n",
       "      <th id=\"T_b05cb_level0_col0\" class=\"col_heading level0 col0\" >Nov 2018</th>\n",
       "      <th id=\"T_b05cb_level0_col1\" class=\"col_heading level0 col1\" >Nov 2023</th>\n",
       "    </tr>\n",
       "  </thead>\n",
       "  <tbody>\n",
       "    <tr>\n",
       "      <th id=\"T_b05cb_level0_row0\" class=\"row_heading level0 row0\" >YTM</th>\n",
       "      <td id=\"T_b05cb_row0_col0\" class=\"data row0 col0\" >3.1480%</td>\n",
       "      <td id=\"T_b05cb_row0_col1\" class=\"data row0 col1\" >4.6670%</td>\n",
       "    </tr>\n",
       "    <tr>\n",
       "      <th id=\"T_b05cb_level0_row1\" class=\"row_heading level0 row1\" >swap rate</th>\n",
       "      <td id=\"T_b05cb_row1_col0\" class=\"data row1 col0\" >2.7639%</td>\n",
       "      <td id=\"T_b05cb_row1_col1\" class=\"data row1 col1\" >3.9895%</td>\n",
       "    </tr>\n",
       "  </tbody>\n",
       "</table>\n"
      ],
      "text/plain": [
       "<pandas.io.formats.style.Styler at 0x1ca5b66b590>"
      ]
     },
     "execution_count": 71,
     "metadata": {},
     "output_type": "execute_result"
    }
   ],
   "source": [
    "SWAPRATE = [.027639,.039895]\n",
    "YTM = [.031480, .046670]\n",
    "\n",
    "summary = pd.DataFrame(index=['YTM','swap rate'],columns = ['Nov 2018','Nov 2023'],dtype=float)\n",
    "summary.loc['YTM'] = YTM\n",
    "summary.loc['swap rate'] = SWAPRATE\n",
    "summary.style.format('{:.4%}')"
   ]
  },
  {
   "cell_type": "markdown",
   "metadata": {},
   "source": [
    "### 4.1. (5pts)\n",
    "\n",
    "Consider `Nov 2018`. Suppose you enter into a swap-spread trade.\n",
    "* You go long \\$100 million **market value** of 20-year T-bonds.\n",
    "* You simultaneously enter a 20-year swap, paying-fixed, with notional of \\$100 million.\n",
    "\n",
    "\n",
    "Report the \n",
    "* price of the T-bond in Nov 2018.\n",
    "* amount of T-bonds purchased, (each face value of 100)."
   ]
  },
  {
   "cell_type": "markdown",
   "metadata": {},
   "source": [
    "### 4.2. (5pts)\n",
    "\n",
    "Report the first cashflow of the trade, in May 2019.\n",
    "\n",
    "For simplicity, \n",
    "* assume the swap pays semiannually, at the same date the T-bond pays coupons.\n",
    "* the repo rate involved in the trade cancels out with the floating rate of the swap.\n",
    "* the repo term is semiannually, corresponding to the coupon and swap dates.\n",
    "* there are not any margin calls or distributions in the discussion below.\n",
    "\n",
    "If the haircut is 4\\% to repo the T-bonds, then what is the May 2019 cashflow as a percentage of the equity capital in the position?"
   ]
  },
  {
   "cell_type": "markdown",
   "metadata": {},
   "source": [
    "### 4.3. (5pts)\n",
    "\n",
    "Report the risk of the trade.\n",
    "* Duration and dollar duration for the T-bond\n",
    "* Duration and dollar duration for the swap\n",
    "\n",
    "Note that you are reporting the usual, Macauley, duration--not the modified duration. \n",
    "\n",
    "For each of these duration calculations, use only the YTM and swap rates--no need for a discount curve."
   ]
  },
  {
   "cell_type": "markdown",
   "metadata": {},
   "source": [
    "### 4.4. (5pts)\n",
    "\n",
    "Use **modified** duration to answer the following:\n",
    "\n",
    "* What is the expected profit and loss if the swap-spread goes to zero?\n",
    "* What return would this be relative to the initial equity capital to put on the position?\n",
    "\n",
    "#### Note:\n",
    "We refer to the spread (swap-rate minus T-bond YTM) going to zero symmetrically (the YTM falls and swap rate rise equally until converging.)"
   ]
  },
  {
   "cell_type": "markdown",
   "metadata": {},
   "source": [
    "### 4.5. (10pts)\n",
    "\n",
    "Now it is `Nov 2023`. Use the market quotes to report...\n",
    "* the value of the long T-bond positions (15 years-to-maturity)\n",
    "* the value of the paying-fixed swap (15 years-to-expiration)\n",
    "* the net value of your position and return on your equity capital."
   ]
  },
  {
   "cell_type": "markdown",
   "metadata": {},
   "source": [
    "### 4.6. (5pts)\n",
    "\n",
    "Assume there are no market frictions, and there is more credit risk in the swap than in the T-bond.\n",
    "\n",
    "In that case, is the swap-spread trade an arbitrage, a statistically favorable trade, both, or neither? \n",
    "\n",
    "Be specific whether your answer is for the long-term or short-term."
   ]
  },
  {
   "cell_type": "markdown",
   "metadata": {},
   "source": [
    "***"
   ]
  },
  {
   "cell_type": "markdown",
   "metadata": {},
   "source": [
    "# <span style=\"color:red\">Solution 4</span>"
   ]
  },
  {
   "cell_type": "markdown",
   "metadata": {},
   "source": [
    "## <span style=\"color:red\">4.1</span>"
   ]
  },
  {
   "cell_type": "markdown",
   "metadata": {},
   "source": [
    "No calculation is needed for this problem.\n",
    "\n",
    "We are told the coupon matches the YTM, \n",
    "* Thus the T-bond trades at par, price $=100$.\n",
    "* Total of 1 million contracts."
   ]
  },
  {
   "cell_type": "code",
   "execution_count": 72,
   "metadata": {},
   "outputs": [
    {
     "data": {
      "text/html": [
       "<div>\n",
       "<style scoped>\n",
       "    .dataframe tbody tr th:only-of-type {\n",
       "        vertical-align: middle;\n",
       "    }\n",
       "\n",
       "    .dataframe tbody tr th {\n",
       "        vertical-align: top;\n",
       "    }\n",
       "\n",
       "    .dataframe thead th {\n",
       "        text-align: right;\n",
       "    }\n",
       "</style>\n",
       "<table border=\"1\" class=\"dataframe\">\n",
       "  <thead>\n",
       "    <tr style=\"text-align: right;\">\n",
       "      <th></th>\n",
       "      <th>Nov 2018</th>\n",
       "      <th>Nov 2023</th>\n",
       "    </tr>\n",
       "  </thead>\n",
       "  <tbody>\n",
       "    <tr>\n",
       "      <th>YTM</th>\n",
       "      <td>0.031480</td>\n",
       "      <td>0.046670</td>\n",
       "    </tr>\n",
       "    <tr>\n",
       "      <th>swap rate</th>\n",
       "      <td>0.027639</td>\n",
       "      <td>0.039895</td>\n",
       "    </tr>\n",
       "  </tbody>\n",
       "</table>\n",
       "</div>"
      ],
      "text/plain": [
       "           Nov 2018  Nov 2023\n",
       "YTM        0.031480  0.046670\n",
       "swap rate  0.027639  0.039895"
      ]
     },
     "execution_count": 72,
     "metadata": {},
     "output_type": "execute_result"
    }
   ],
   "source": [
    "summary"
   ]
  },
  {
   "cell_type": "code",
   "execution_count": 73,
   "metadata": {},
   "outputs": [
    {
     "data": {
      "text/html": [
       "<style type=\"text/css\">\n",
       "</style>\n",
       "<table id=\"T_598cc\">\n",
       "  <thead>\n",
       "    <tr>\n",
       "      <th class=\"blank level0\" >&nbsp;</th>\n",
       "      <th id=\"T_598cc_level0_col0\" class=\"col_heading level0 col0\" >T-bond</th>\n",
       "    </tr>\n",
       "  </thead>\n",
       "  <tbody>\n",
       "    <tr>\n",
       "      <th id=\"T_598cc_level0_row0\" class=\"row_heading level0 row0\" >price</th>\n",
       "      <td id=\"T_598cc_row0_col0\" class=\"data row0 col0\" >100.00</td>\n",
       "    </tr>\n",
       "    <tr>\n",
       "      <th id=\"T_598cc_level0_row1\" class=\"row_heading level0 row1\" >contracts</th>\n",
       "      <td id=\"T_598cc_row1_col0\" class=\"data row1 col0\" >1,000,000.00</td>\n",
       "    </tr>\n",
       "  </tbody>\n",
       "</table>\n"
      ],
      "text/plain": [
       "<pandas.io.formats.style.Styler at 0x1ca5aaeff50>"
      ]
     },
     "execution_count": 73,
     "metadata": {},
     "output_type": "execute_result"
    }
   ],
   "source": [
    "T = 20\n",
    "freq = 2\n",
    "\n",
    "capital = 100e6\n",
    "HAIRCUT = .04\n",
    "\n",
    "PX = 100\n",
    "contracts = capital / PX\n",
    "\n",
    "tab = pd.DataFrame([PX,contracts],index=['price','contracts'],columns=['T-bond'])\n",
    "tab.style.format('{:,.2f}')"
   ]
  },
  {
   "cell_type": "markdown",
   "metadata": {},
   "source": [
    "## <span style=\"color:red\">4.2</span>"
   ]
  },
  {
   "cell_type": "markdown",
   "metadata": {},
   "source": [
    "See the `dollars` and `percent equity capital` in the table below.\n",
    "\n",
    "Note that the latter can be immediately deduced from the former. \n",
    "* A haircut of .04 means equity returns will be 25x the asset returns."
   ]
  },
  {
   "cell_type": "code",
   "execution_count": 74,
   "metadata": {},
   "outputs": [
    {
     "data": {
      "text/html": [
       "<style type=\"text/css\">\n",
       "</style>\n",
       "<table id=\"T_93b24\">\n",
       "  <thead>\n",
       "    <tr>\n",
       "      <th class=\"blank level0\" >&nbsp;</th>\n",
       "      <th id=\"T_93b24_level0_col0\" class=\"col_heading level0 col0\" >swap spread</th>\n",
       "      <th id=\"T_93b24_level0_col1\" class=\"col_heading level0 col1\" >dollars</th>\n",
       "      <th id=\"T_93b24_level0_col2\" class=\"col_heading level0 col2\" >equity</th>\n",
       "      <th id=\"T_93b24_level0_col3\" class=\"col_heading level0 col3\" >percent equity capital</th>\n",
       "    </tr>\n",
       "  </thead>\n",
       "  <tbody>\n",
       "    <tr>\n",
       "      <th id=\"T_93b24_level0_row0\" class=\"row_heading level0 row0\" >Nov 2018</th>\n",
       "      <td id=\"T_93b24_row0_col0\" class=\"data row0 col0\" >0.38%</td>\n",
       "      <td id=\"T_93b24_row0_col1\" class=\"data row0 col1\" >192,050.00</td>\n",
       "      <td id=\"T_93b24_row0_col2\" class=\"data row0 col2\" >4,000,000.00</td>\n",
       "      <td id=\"T_93b24_row0_col3\" class=\"data row0 col3\" >4.80%</td>\n",
       "    </tr>\n",
       "  </tbody>\n",
       "</table>\n"
      ],
      "text/plain": [
       "<pandas.io.formats.style.Styler at 0x1ca5b6688c0>"
      ]
     },
     "execution_count": 74,
     "metadata": {},
     "output_type": "execute_result"
    }
   ],
   "source": [
    "cf = pd.DataFrame(summary.loc['YTM','Nov 2018']-summary.loc['swap rate','Nov 2018'],columns=['Nov 2018'], index=['swap spread']).T\n",
    "cf['dollars'] = cf['swap spread'] * capital / freq\n",
    "cf['equity'] = capital * HAIRCUT\n",
    "cf['percent equity capital'] = cf['dollars'] / cf['equity']\n",
    "cf.style.format({'swap spread':'{:.2%}','percent equity capital':'{:.2%}', 'equity':'{:,.2f}', 'dollars':'{:,.2f}'})"
   ]
  },
  {
   "cell_type": "markdown",
   "metadata": {},
   "source": [
    "## <span style=\"color:red\">4.3</span>"
   ]
  },
  {
   "cell_type": "markdown",
   "metadata": {},
   "source": [
    "As discussed in `W.2.`,\n",
    "\n",
    "\n",
    "$$\\newcommand{\\yfreq}{\\tilde{y}}$$\n",
    "$$\\newcommand{\\cpnfreq}{\\tilde{c}}$$\n",
    "$$\\newcommand{\\taufreq}{\\tilde{\\tau}}$$\n",
    "\n",
    "for a bond priced at par, with the coupon rate equal to the YTM, then the formula is simply,\n",
    "\n",
    "$$\\text{(Macauley) duration} = \\frac{1}{n}\\frac{1+\\yfreq}{\\yfreq}\\left(1 - \\frac{1}{\\left(1+\\yfreq\\right)^\\taufreq}\\right)$$\n",
    "\n",
    "$$\\yfreq \\equiv \\frac{y}{n}\\qquad \\cpnfreq \\equiv \\frac{c}{n}\\qquad \\taufreq \\equiv n\\times\\tau$$"
   ]
  },
  {
   "cell_type": "code",
   "execution_count": 75,
   "metadata": {},
   "outputs": [],
   "source": [
    "def duration_closed_formula(tau, ytm, cpnrate=None, freq=2):\n",
    "\n",
    "    if cpnrate is None:\n",
    "        cpnrate = ytm\n",
    "        \n",
    "    y = ytm/freq\n",
    "    c = cpnrate/freq\n",
    "    T = tau * freq\n",
    "        \n",
    "    if cpnrate==ytm:\n",
    "        duration = (1+y)/y  * (1 - 1/(1+y)**T)\n",
    "        \n",
    "    else:\n",
    "        duration = (1+y)/y - (1+y+T*(c-y)) / (c*((1+y)**T-1)+y)\n",
    "\n",
    "    duration /= freq\n",
    "    \n",
    "    return duration"
   ]
  },
  {
   "cell_type": "markdown",
   "metadata": {},
   "source": [
    "About the swap duration...\n",
    "* For the swap, should one use the swap rate or the treasury rate as the discount.\n",
    "* Either way, for the swap's duration use the swap rate as the coupon.\n",
    "\n",
    "Both approaches are shown below."
   ]
  },
  {
   "cell_type": "code",
   "execution_count": 76,
   "metadata": {},
   "outputs": [
    {
     "data": {
      "text/html": [
       "<style type=\"text/css\">\n",
       "</style>\n",
       "<table id=\"T_15efd\">\n",
       "  <thead>\n",
       "    <tr>\n",
       "      <th class=\"blank level0\" >&nbsp;</th>\n",
       "      <th id=\"T_15efd_level0_col0\" class=\"col_heading level0 col0\" >macauley</th>\n",
       "    </tr>\n",
       "  </thead>\n",
       "  <tbody>\n",
       "    <tr>\n",
       "      <th id=\"T_15efd_level0_row0\" class=\"row_heading level0 row0\" >T-bond</th>\n",
       "      <td id=\"T_15efd_row0_col0\" class=\"data row0 col0\" >14.99</td>\n",
       "    </tr>\n",
       "    <tr>\n",
       "      <th id=\"T_15efd_level0_row1\" class=\"row_heading level0 row1\" >swap</th>\n",
       "      <td id=\"T_15efd_row1_col0\" class=\"data row1 col0\" >15.50</td>\n",
       "    </tr>\n",
       "  </tbody>\n",
       "</table>\n"
      ],
      "text/plain": [
       "<pandas.io.formats.style.Styler at 0x1ca5b66b680>"
      ]
     },
     "execution_count": 76,
     "metadata": {},
     "output_type": "execute_result"
    }
   ],
   "source": [
    "SWAP_DISC_TBOND = False\n",
    "\n",
    "d_tbond = duration_closed_formula(T,summary.loc['YTM','Nov 2018'])\n",
    "d_swap = duration_closed_formula(T,summary.loc['swap rate','Nov 2018'])\n",
    "\n",
    "if SWAP_DISC_TBOND:\n",
    "    d_swap = duration_closed_formula(T,summary.loc['YTM','Nov 2018'], cpnrate=summary.loc['swap rate','Nov 2018'])\n",
    "\n",
    "durations = pd.DataFrame([d_tbond,d_swap], index=['T-bond','swap'], columns=['macauley'])\n",
    "durations.style.format('{:.2f}')"
   ]
  },
  {
   "cell_type": "markdown",
   "metadata": {},
   "source": [
    "One other consideration...\n",
    "* No need to consider duration of the repo or the floating-rate note.\n",
    "* If you did consider the duration to either of those, it is 0.5.\n",
    "* No penalty for including one, both, or none of these (repo and floating-rate note.)"
   ]
  },
  {
   "cell_type": "markdown",
   "metadata": {},
   "source": [
    "## <span style=\"color:red\">4.4</span>"
   ]
  },
  {
   "cell_type": "markdown",
   "metadata": {},
   "source": [
    "This problem is very similar to `1.4` and reuses that code."
   ]
  },
  {
   "cell_type": "code",
   "execution_count": 77,
   "metadata": {},
   "outputs": [
    {
     "data": {
      "text/html": [
       "<style type=\"text/css\">\n",
       "</style>\n",
       "<table id=\"T_328cf\">\n",
       "  <thead>\n",
       "    <tr>\n",
       "      <th class=\"blank level0\" >&nbsp;</th>\n",
       "      <th id=\"T_328cf_level0_col0\" class=\"col_heading level0 col0\" >macauley</th>\n",
       "      <th id=\"T_328cf_level0_col1\" class=\"col_heading level0 col1\" >modified</th>\n",
       "    </tr>\n",
       "  </thead>\n",
       "  <tbody>\n",
       "    <tr>\n",
       "      <th id=\"T_328cf_level0_row0\" class=\"row_heading level0 row0\" >T-bond</th>\n",
       "      <td id=\"T_328cf_row0_col0\" class=\"data row0 col0\" >14.99</td>\n",
       "      <td id=\"T_328cf_row0_col1\" class=\"data row0 col1\" >14.76</td>\n",
       "    </tr>\n",
       "    <tr>\n",
       "      <th id=\"T_328cf_level0_row1\" class=\"row_heading level0 row1\" >swap</th>\n",
       "      <td id=\"T_328cf_row1_col0\" class=\"data row1 col0\" >15.50</td>\n",
       "      <td id=\"T_328cf_row1_col1\" class=\"data row1 col1\" >15.29</td>\n",
       "    </tr>\n",
       "  </tbody>\n",
       "</table>\n"
      ],
      "text/plain": [
       "<pandas.io.formats.style.Styler at 0x1ca58b22720>"
      ]
     },
     "execution_count": 77,
     "metadata": {},
     "output_type": "execute_result"
    }
   ],
   "source": [
    "COMPOUNDING = 2\n",
    "\n",
    "durations['modified'] = durations['macauley'].values / (1+summary['Nov 2018']/COMPOUNDING).values\n",
    "durations.style.format('{:.2f}')"
   ]
  },
  {
   "cell_type": "code",
   "execution_count": 78,
   "metadata": {},
   "outputs": [],
   "source": [
    "# collect position (not necessary)\n",
    "contracts = tab.loc[['contracts']].copy()\n",
    "contracts['swap'] = -capital/100\n",
    "contracts = contracts.T\n",
    "\n",
    "# assume spread converges symmetrically, with ytm decreasing and swap rate increasing.\n",
    "spread_convergence = cf.loc['Nov 2018','swap spread']*np.array([[-1],[1]]) / 2\n",
    "\n",
    "# get signed duration reflecting long vs short positioning\n",
    "duration_positions = np.sign(contracts).values * durations[['modified']].values\n",
    "\n",
    "approx_duration = pd.DataFrame(duration_positions, columns=['mod duration'], index=['T-bond','swap'])\n",
    "\n",
    "# in approx, always use negative duration: pct_change = -mod_duration * ytm_change\n",
    "approx_duration['mod dollar duration'] = approx_duration['mod duration'] * capital\n",
    "\n",
    "approx_duration['spread convergence'] = spread_convergence\n",
    "approx_duration[['pct change','pnl']] = -approx_duration[['mod duration','mod dollar duration']] * spread_convergence\n",
    "\n",
    "approx_duration.loc['net',['pct change','pnl']] = approx_duration[['pct change','pnl']].sum()"
   ]
  },
  {
   "cell_type": "code",
   "execution_count": 79,
   "metadata": {},
   "outputs": [
    {
     "data": {
      "text/html": [
       "<style type=\"text/css\">\n",
       "</style>\n",
       "<table id=\"T_d45ad\">\n",
       "  <thead>\n",
       "    <tr>\n",
       "      <th class=\"blank level0\" >&nbsp;</th>\n",
       "      <th id=\"T_d45ad_level0_col0\" class=\"col_heading level0 col0\" >mod duration</th>\n",
       "      <th id=\"T_d45ad_level0_col1\" class=\"col_heading level0 col1\" >mod dollar duration</th>\n",
       "      <th id=\"T_d45ad_level0_col2\" class=\"col_heading level0 col2\" >spread convergence</th>\n",
       "      <th id=\"T_d45ad_level0_col3\" class=\"col_heading level0 col3\" >pct change</th>\n",
       "      <th id=\"T_d45ad_level0_col4\" class=\"col_heading level0 col4\" >pnl</th>\n",
       "    </tr>\n",
       "  </thead>\n",
       "  <tbody>\n",
       "    <tr>\n",
       "      <th id=\"T_d45ad_level0_row0\" class=\"row_heading level0 row0\" >T-bond</th>\n",
       "      <td id=\"T_d45ad_row0_col0\" class=\"data row0 col0\" >14.76</td>\n",
       "      <td id=\"T_d45ad_row0_col1\" class=\"data row0 col1\" >$1,475,781,641.07</td>\n",
       "      <td id=\"T_d45ad_row0_col2\" class=\"data row0 col2\" >-0.19%</td>\n",
       "      <td id=\"T_d45ad_row0_col3\" class=\"data row0 col3\" >2.83%</td>\n",
       "      <td id=\"T_d45ad_row0_col4\" class=\"data row0 col4\" >2,834,238.64</td>\n",
       "    </tr>\n",
       "    <tr>\n",
       "      <th id=\"T_d45ad_level0_row1\" class=\"row_heading level0 row1\" >swap</th>\n",
       "      <td id=\"T_d45ad_row1_col0\" class=\"data row1 col0\" >-15.29</td>\n",
       "      <td id=\"T_d45ad_row1_col1\" class=\"data row1 col1\" >$-1,528,529,296.40</td>\n",
       "      <td id=\"T_d45ad_row1_col2\" class=\"data row1 col2\" >0.19%</td>\n",
       "      <td id=\"T_d45ad_row1_col3\" class=\"data row1 col3\" >2.94%</td>\n",
       "      <td id=\"T_d45ad_row1_col4\" class=\"data row1 col4\" >2,935,540.51</td>\n",
       "    </tr>\n",
       "    <tr>\n",
       "      <th id=\"T_d45ad_level0_row2\" class=\"row_heading level0 row2\" >net</th>\n",
       "      <td id=\"T_d45ad_row2_col0\" class=\"data row2 col0\" ></td>\n",
       "      <td id=\"T_d45ad_row2_col1\" class=\"data row2 col1\" ></td>\n",
       "      <td id=\"T_d45ad_row2_col2\" class=\"data row2 col2\" ></td>\n",
       "      <td id=\"T_d45ad_row2_col3\" class=\"data row2 col3\" >5.77%</td>\n",
       "      <td id=\"T_d45ad_row2_col4\" class=\"data row2 col4\" >5,769,779.16</td>\n",
       "    </tr>\n",
       "  </tbody>\n",
       "</table>\n"
      ],
      "text/plain": [
       "<pandas.io.formats.style.Styler at 0x1ca5aaf82c0>"
      ]
     },
     "execution_count": 79,
     "metadata": {},
     "output_type": "execute_result"
    }
   ],
   "source": [
    "approx_duration.style.format({'mod duration':'{:.2f}','mod dollar duration':'${:,.2f}','spread convergence':'{:.2%}','pct change':'{:.2%}','pnl':'{:,.2f}'},na_rep='')"
   ]
  },
  {
   "cell_type": "markdown",
   "metadata": {},
   "source": [
    "Accordingly, we estimate a profit of 5.77 million upon convergence."
   ]
  },
  {
   "cell_type": "markdown",
   "metadata": {},
   "source": [
    "## <span style=\"color:red\">4.5</span>"
   ]
  },
  {
   "cell_type": "markdown",
   "metadata": {},
   "source": [
    "#### Swap and Bond\n",
    "\n",
    "The swap is priced as (being short) a fixed rate bond minus a floating-rate bond.\n",
    "\n",
    "For our purposes, we can ignore the floating-rate bond component, which will price at par on both dates.\n",
    "\n",
    "Thus, we are simply pricing vanilla bonds with two different coupon rates (given by Nov 2018) and two different YTMs (Nov 2023)."
   ]
  },
  {
   "cell_type": "markdown",
   "metadata": {},
   "source": [
    "**Two possible routes**\n",
    "* 1. Use the bond pricing formula.\n",
    "* 2. Use the same duration approximation as the previous problem.\n",
    "\n",
    "The problem presumed the former, but it didn't specify, so either approach is fine."
   ]
  },
  {
   "cell_type": "markdown",
   "metadata": {},
   "source": [
    "#### #1 Revaluing with bond pricing formula"
   ]
  },
  {
   "cell_type": "markdown",
   "metadata": {},
   "source": [
    "Consider using an existing bond pricing function or you could have written one quickly which...\n",
    "* uses the geometric series for a closed-form solution, as does `bond_pricer_formula`\n",
    "* adds up each discounted cashflow, as does `bond_pricer_dcf`"
   ]
  },
  {
   "cell_type": "code",
   "execution_count": 80,
   "metadata": {},
   "outputs": [],
   "source": [
    "def bond_pricer_formula(ttm,ytm,cpn=None,freq=2,face=100):\n",
    "    \n",
    "    if cpn is None:\n",
    "        cpn = ytm\n",
    "    \n",
    "    y = ytm/freq\n",
    "    \n",
    "    disc_factor = 1/((1+y)**(freq*ttm))\n",
    "\n",
    "    cf_cpn = face * (cpn/freq)\n",
    "    pv_cpns = cf_cpn * (1-disc_factor)/y\n",
    "\n",
    "    pv_tv = face * disc_factor\n",
    "    \n",
    "    pv = pv_tv + pv_cpns\n",
    "    \n",
    "    return pv"
   ]
  },
  {
   "cell_type": "code",
   "execution_count": 81,
   "metadata": {},
   "outputs": [],
   "source": [
    "def bond_pricer_dcf(ttm,ytm,cpn=None,freq=2,face=100):\n",
    "    \n",
    "    if cpn is None:\n",
    "        cpn = ytm\n",
    "        \n",
    "    pv = 0\n",
    "    \n",
    "    c = (cpn/freq)*face\n",
    "    disc = 1/(1+ytm/freq)\n",
    "    \n",
    "    for t in range(ttm*freq):\n",
    "        pv += c * disc**(t+1)\n",
    "    \n",
    "    pv += face * disc**(ttm*freq)\n",
    "\n",
    "    return pv"
   ]
  },
  {
   "cell_type": "code",
   "execution_count": 82,
   "metadata": {},
   "outputs": [
    {
     "data": {
      "text/html": [
       "<style type=\"text/css\">\n",
       "</style>\n",
       "<table id=\"T_acc53\">\n",
       "  <thead>\n",
       "    <tr>\n",
       "      <th class=\"blank level0\" >&nbsp;</th>\n",
       "      <th id=\"T_acc53_level0_col0\" class=\"col_heading level0 col0\" >price</th>\n",
       "      <th id=\"T_acc53_level0_col1\" class=\"col_heading level0 col1\" >position value</th>\n",
       "    </tr>\n",
       "  </thead>\n",
       "  <tbody>\n",
       "    <tr>\n",
       "      <th id=\"T_acc53_level0_row0\" class=\"row_heading level0 row0\" >YTM</th>\n",
       "      <td id=\"T_acc53_row0_col0\" class=\"data row0 col0\" >$83.74</td>\n",
       "      <td id=\"T_acc53_row0_col1\" class=\"data row0 col1\" >$83,744,727.33</td>\n",
       "    </tr>\n",
       "    <tr>\n",
       "      <th id=\"T_acc53_level0_row1\" class=\"row_heading level0 row1\" >swap rate</th>\n",
       "      <td id=\"T_acc53_row1_col0\" class=\"data row1 col0\" >$86.27</td>\n",
       "      <td id=\"T_acc53_row1_col1\" class=\"data row1 col1\" >$-86,265,539.38</td>\n",
       "    </tr>\n",
       "    <tr>\n",
       "      <th id=\"T_acc53_level0_row2\" class=\"row_heading level0 row2\" >net</th>\n",
       "      <td id=\"T_acc53_row2_col0\" class=\"data row2 col0\" ></td>\n",
       "      <td id=\"T_acc53_row2_col1\" class=\"data row2 col1\" >$-2,520,812.04</td>\n",
       "    </tr>\n",
       "  </tbody>\n",
       "</table>\n"
      ],
      "text/plain": [
       "<pandas.io.formats.style.Styler at 0x1ca5aae4500>"
      ]
     },
     "execution_count": 82,
     "metadata": {},
     "output_type": "execute_result"
    }
   ],
   "source": [
    "TTM = 15\n",
    "\n",
    "px_tbond = bond_pricer_formula(TTM,summary.loc['YTM','Nov 2023'],summary.loc['YTM','Nov 2018'])\n",
    "px_swap = bond_pricer_formula(TTM,summary.loc['swap rate','Nov 2023'],summary.loc['swap rate','Nov 2018'])\n",
    "\n",
    "prices = pd.DataFrame([px_tbond,px_swap],index=summary.index,columns=['price'])\n",
    "\n",
    "prices['position value'] = prices['price'] * contracts['contracts'].values\n",
    "\n",
    "prices.loc['net','position value'] = prices['position value'].sum()\n",
    "prices.style.format('${:,.2f}',na_rep='')"
   ]
  },
  {
   "cell_type": "markdown",
   "metadata": {},
   "source": [
    "#### #2 Revaluing with duration"
   ]
  },
  {
   "cell_type": "code",
   "execution_count": 83,
   "metadata": {},
   "outputs": [],
   "source": [
    "dr = summary.diff(axis=1)['Nov 2023']\n",
    "\n",
    "approx_duration_2023 = approx_duration[['mod duration','mod dollar duration']].drop(index=['net']).copy()\n",
    "approx_duration_2023['rate changes'] = dr.values\n",
    "approx_duration_2023[['pct change','pnl']] = -approx_duration_2023[['mod duration','mod dollar duration']] * dr.values\n",
    "approx_duration_2023['price'] = approx_duration_2023['pnl'] + capital * np.sign(contracts).values[:,0]\n",
    "approx_duration_2023.loc['net',['pnl','price']] = approx_duration_2023[['pnl','price']].sum()"
   ]
  },
  {
   "cell_type": "code",
   "execution_count": 84,
   "metadata": {},
   "outputs": [
    {
     "data": {
      "text/html": [
       "<style type=\"text/css\">\n",
       "</style>\n",
       "<table id=\"T_380d8\">\n",
       "  <thead>\n",
       "    <tr>\n",
       "      <th class=\"blank level0\" >&nbsp;</th>\n",
       "      <th id=\"T_380d8_level0_col0\" class=\"col_heading level0 col0\" >mod duration</th>\n",
       "      <th id=\"T_380d8_level0_col1\" class=\"col_heading level0 col1\" >mod dollar duration</th>\n",
       "      <th id=\"T_380d8_level0_col2\" class=\"col_heading level0 col2\" >rate changes</th>\n",
       "      <th id=\"T_380d8_level0_col3\" class=\"col_heading level0 col3\" >pct change</th>\n",
       "      <th id=\"T_380d8_level0_col4\" class=\"col_heading level0 col4\" >pnl</th>\n",
       "      <th id=\"T_380d8_level0_col5\" class=\"col_heading level0 col5\" >price</th>\n",
       "    </tr>\n",
       "  </thead>\n",
       "  <tbody>\n",
       "    <tr>\n",
       "      <th id=\"T_380d8_level0_row0\" class=\"row_heading level0 row0\" >T-bond</th>\n",
       "      <td id=\"T_380d8_row0_col0\" class=\"data row0 col0\" >14.76</td>\n",
       "      <td id=\"T_380d8_row0_col1\" class=\"data row0 col1\" >$1,475,781,641.07</td>\n",
       "      <td id=\"T_380d8_row0_col2\" class=\"data row0 col2\" >0.015190</td>\n",
       "      <td id=\"T_380d8_row0_col3\" class=\"data row0 col3\" >-22.42%</td>\n",
       "      <td id=\"T_380d8_row0_col4\" class=\"data row0 col4\" >-18,087,179.79</td>\n",
       "      <td id=\"T_380d8_row0_col5\" class=\"data row0 col5\" >$81,912,820.21</td>\n",
       "    </tr>\n",
       "    <tr>\n",
       "      <th id=\"T_380d8_level0_row1\" class=\"row_heading level0 row1\" >swap</th>\n",
       "      <td id=\"T_380d8_row1_col0\" class=\"data row1 col0\" >-15.29</td>\n",
       "      <td id=\"T_380d8_row1_col1\" class=\"data row1 col1\" >$-1,528,529,296.40</td>\n",
       "      <td id=\"T_380d8_row1_col2\" class=\"data row1 col2\" >0.012256</td>\n",
       "      <td id=\"T_380d8_row1_col3\" class=\"data row1 col3\" >23.22%</td>\n",
       "      <td id=\"T_380d8_row1_col4\" class=\"data row1 col4\" >18,733,655.06</td>\n",
       "      <td id=\"T_380d8_row1_col5\" class=\"data row1 col5\" >$-81,266,344.94</td>\n",
       "    </tr>\n",
       "    <tr>\n",
       "      <th id=\"T_380d8_level0_row2\" class=\"row_heading level0 row2\" >net</th>\n",
       "      <td id=\"T_380d8_row2_col0\" class=\"data row2 col0\" ></td>\n",
       "      <td id=\"T_380d8_row2_col1\" class=\"data row2 col1\" ></td>\n",
       "      <td id=\"T_380d8_row2_col2\" class=\"data row2 col2\" ></td>\n",
       "      <td id=\"T_380d8_row2_col3\" class=\"data row2 col3\" ></td>\n",
       "      <td id=\"T_380d8_row2_col4\" class=\"data row2 col4\" >646,475.26</td>\n",
       "      <td id=\"T_380d8_row2_col5\" class=\"data row2 col5\" >$646,475.26</td>\n",
       "    </tr>\n",
       "  </tbody>\n",
       "</table>\n"
      ],
      "text/plain": [
       "<pandas.io.formats.style.Styler at 0x1ca58343aa0>"
      ]
     },
     "execution_count": 84,
     "metadata": {},
     "output_type": "execute_result"
    }
   ],
   "source": [
    "approx_duration_2023.style.format({'mod duration':'{:.2f}','mod dollar duration':'${:,.2f}','spread convergence':'{:.2%}','pct change':'{:.2%}','pnl':'{:,.2f}','price':'${:,.2f}'},na_rep='')"
   ]
  },
  {
   "cell_type": "markdown",
   "metadata": {},
   "source": [
    "Using the duration approximation, the new prices are in the final column of the table above, as well as the net position, which equals the pnl.\n",
    "\n",
    "Note that this duration approach is only an approximation.\n",
    "* The rate shifts are large, and thus duration is less accurate.\n",
    "* We see that not accounting for the convexity causes this approach to underprice the bond and swap."
   ]
  },
  {
   "cell_type": "markdown",
   "metadata": {},
   "source": [
    "#### Conclusion\n",
    "\n",
    "With either approach, we find both the T-bond and fixed-rate side of the swap have gone down substantially in market value, (between 81-86 per 100 face).\n",
    "\n",
    "The long-short construction means these price decreases offset partially, leaving a net loss of -2.5mm (analytical) or a small profit of 0.6mm (duration approx)."
   ]
  },
  {
   "cell_type": "markdown",
   "metadata": {},
   "source": [
    "## <span style=\"color:red\">4.6</span>"
   ]
  },
  {
   "cell_type": "markdown",
   "metadata": {},
   "source": [
    "In the **long-term**, there is a nonzero probability of losing money on the trade since the counterparty could default.\n",
    "\n",
    "In the **short-term**, there is a statistical trade.\n",
    "* Depends on the spread getting smaller vs larger, based on past data. (And ideally soon!)\n",
    "* No mathematical reason that it needs to converge any time soon."
   ]
  },
  {
   "cell_type": "markdown",
   "metadata": {},
   "source": [
    "***"
   ]
  }
 ],
 "metadata": {
  "hide_input": false,
  "kernelspec": {
   "display_name": "data_analysis",
   "language": "python",
   "name": "python3"
  },
  "language_info": {
   "codemirror_mode": {
    "name": "ipython",
    "version": 3
   },
   "file_extension": ".py",
   "mimetype": "text/x-python",
   "name": "python",
   "nbconvert_exporter": "python",
   "pygments_lexer": "ipython3",
   "version": "3.12.7"
  }
 },
 "nbformat": 4,
 "nbformat_minor": 4
}
